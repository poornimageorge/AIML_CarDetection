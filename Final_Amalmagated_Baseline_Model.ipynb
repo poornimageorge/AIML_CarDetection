{
  "cells": [
    {
      "cell_type": "markdown",
      "metadata": {
        "id": "byKMPfb8U3u8"
      },
      "source": [
        "# Object Detection(Car Detection)\n",
        "\n",
        "\n"
      ]
    },
    {
      "cell_type": "markdown",
      "metadata": {
        "id": "6JFQGIY6U3vC"
      },
      "source": [
        "### DOMAIN: \n",
        "Automotive , Surveillance\n",
        "### CONTEXT: \n",
        "Computer vision can be used to automate supervision and generate action appropriate action trigger if the event is \n",
        "predicted from the image of interest. For example a car moving on the road can be easily identified by a camera as make of \n",
        "the car, type, colour, number plates etc\n",
        "### DATA DESCRIPTION: \n",
        "The Cars dataset contains 16,185 images of 196 classes of cars. The data is split into 8,144 training images and 8,041 testing \n",
        "images, where each class has been split roughly in a 50-50 split. Classes are typically at the level of Make, Model, Year, e.g. \n",
        "2012 Tesla Model S or 2012 BMW M3 coupe\n",
        "‣ Train Images: Consists of real images of cars as per the make and year of the car. \n",
        "‣ Test Images: Consists of real images of cars as per the make and year of the car.\n",
        "‣ Train Annotation: Consists of bounding box region for training images.\n",
        "‣ Test Annotation: Consists of bounding box region for testing images.\n",
        "Dataset has been attached along with this project. Please use the same for this capstone project\n",
        "Dataset: Original dataset link for your reference only: https://www.kaggle.com/jutrera/stanford-car-dataset-by-classes-folder\n",
        "### REFERENCE: \n",
        "3D Object Representations for Fine-Grained Categorisation, Jonathan Krause, Michael Stark, Jia Deng, Li Fei-Fei 4th IEEE \n",
        "Workshop on 3D Representation and Recognition, at ICCV 2013 (3dRR-13). Sydney, Australia. Dec. 8, 2013.\n",
        "### PROJECT OBJECTIVE: \n",
        "Design a DL based car identification model"
      ]
    },
    {
      "cell_type": "code",
      "execution_count": null,
      "metadata": {
        "id": "GE-3DVB8Aeya"
      },
      "outputs": [],
      "source": [
        "%tensorflow_version 2.x\n",
        "#%tensorflow_version 1.x"
      ]
    },
    {
      "cell_type": "code",
      "execution_count": null,
      "metadata": {
        "colab": {
          "base_uri": "https://localhost:8080/"
        },
        "id": "5wqwm6p6_BNB",
        "outputId": "a81021fe-7abd-47db-f7f0-798bb0a17ca6"
      },
      "outputs": [
        {
          "output_type": "stream",
          "name": "stdout",
          "text": [
            "2.8.0\n"
          ]
        }
      ],
      "source": [
        "# Lets check version of tensor flow and keras installed \n",
        "\n",
        "import tensorflow\n",
        "print(tensorflow.__version__)"
      ]
    },
    {
      "cell_type": "code",
      "execution_count": null,
      "metadata": {
        "colab": {
          "base_uri": "https://localhost:8080/"
        },
        "id": "xZoUKGv4Suy0",
        "outputId": "562c4bbb-151a-4da4-e802-e7c8c6459915"
      },
      "outputs": [
        {
          "output_type": "stream",
          "name": "stdout",
          "text": [
            "2.8.0\n"
          ]
        }
      ],
      "source": [
        "import keras\n",
        "print(keras.__version__)"
      ]
    },
    {
      "cell_type": "code",
      "execution_count": null,
      "metadata": {
        "colab": {
          "base_uri": "https://localhost:8080/"
        },
        "id": "gjtJdoWb33Tv",
        "outputId": "bea58142-d9d2-451b-af05-38bc75823336"
      },
      "outputs": [
        {
          "output_type": "stream",
          "name": "stdout",
          "text": [
            "Mounted at /content/drive\n"
          ]
        }
      ],
      "source": [
        "from google.colab import drive\n",
        "drive.mount('/content/drive')"
      ]
    },
    {
      "cell_type": "code",
      "execution_count": null,
      "metadata": {
        "id": "hq3gsdnTRW-5"
      },
      "outputs": [],
      "source": [
        ""
      ]
    },
    {
      "cell_type": "markdown",
      "metadata": {
        "id": "WbwEaWRoxk2S"
      },
      "source": [
        "All the above versions libraries are required for the Third party implementation we are goin to use"
      ]
    },
    {
      "cell_type": "markdown",
      "metadata": {
        "id": "7tRzfF1pU3vD"
      },
      "source": [
        "## Legend\n",
        "\n",
        " ### Insights/inferences/results have been displayed post each step"
      ]
    },
    {
      "cell_type": "code",
      "execution_count": null,
      "metadata": {
        "colab": {
          "base_uri": "https://localhost:8080/"
        },
        "id": "ZlT-b7KPd-6Q",
        "outputId": "a336197a-3448-42c3-b239-25c51ef209ab"
      },
      "outputs": [
        {
          "output_type": "stream",
          "name": "stdout",
          "text": [
            "/device:GPU:0\n"
          ]
        }
      ],
      "source": [
        "# Lets check if we are connected to GPU\n",
        "import tensorflow as tf\n",
        "device_name = tf.test.gpu_device_name()\n",
        "print(device_name)"
      ]
    },
    {
      "cell_type": "markdown",
      "metadata": {
        "id": "XMbQbVfjU3vE"
      },
      "source": [
        "## 1.0 Basic Config & Settings"
      ]
    },
    {
      "cell_type": "markdown",
      "metadata": {
        "id": "uhRWhATwU3vE"
      },
      "source": [
        "### 1.1 Import necessary libraries"
      ]
    },
    {
      "cell_type": "code",
      "execution_count": null,
      "metadata": {
        "id": "Uowb8YX4U3vF"
      },
      "outputs": [],
      "source": [
        "import matplotlib.pyplot as plt\n",
        "%matplotlib inline\n",
        "import pandas as pd\n",
        "import sys\n",
        "import numpy as np\n",
        "import seaborn as sns\n",
        "import statistics as stats\n",
        "sns.set(color_codes=True)\n",
        "from IPython.core.interactiveshell import InteractiveShell\n",
        "InteractiveShell.ast_node_interactivity = \"all\"\n",
        "#Last import allows multiple outputs from one cell\n",
        "import warnings\n",
        "# Initialize the random number generator\n",
        "import random\n",
        "random.seed(0)\n",
        "\n",
        "#Additional libs\n",
        "import matplotlib.patches as patches\n"
      ]
    },
    {
      "cell_type": "code",
      "execution_count": null,
      "metadata": {
        "id": "dBurjaSqU3vF"
      },
      "outputs": [],
      "source": [
        "# Useful Configuration/Setting\n",
        "\n",
        "# suppress display of warnings\n",
        "warnings.filterwarnings('ignore')\n",
        "\n",
        "# display all dataframe columns\n",
        "pd.options.display.max_columns = None\n",
        "\n",
        "# to set the limit to 3 decimals\n",
        "pd.options.display.float_format = '{:.7f}'.format\n",
        "\n",
        "# display all dataframe rows\n",
        "pd.options.display.max_rows = None\n",
        "\n",
        "#Setting to shows all entries in array displayed\n",
        "np.set_printoptions(threshold=sys.maxsize)"
      ]
    },
    {
      "cell_type": "markdown",
      "metadata": {
        "id": "7x1J1hSZU3vG"
      },
      "source": [
        "### 1.2 Set Necessary variables"
      ]
    },
    {
      "cell_type": "code",
      "execution_count": null,
      "metadata": {
        "id": "_gW__1AuU3vG"
      },
      "outputs": [],
      "source": [
        "# Read The Data Set\n",
        "\n",
        "\n",
        "images_path = \"/content/drive/MyDrive/Capstone/Car Images/Car Images/\"\n",
        "\n",
        "#Lets note here that our images are structred as folders.Each folder is a cart type\n",
        "#Corresponding folder will contain images of THAT car  type\n",
        "#We have a seperate folder for Train and Test IMages"
      ]
    },
    {
      "cell_type": "code",
      "execution_count": null,
      "metadata": {
        "id": "h0-Z6eHLG14i"
      },
      "outputs": [],
      "source": [
        "# Variables required for model Building\n",
        "\n",
        "images_height=300\n",
        "images_width=300"
      ]
    },
    {
      "cell_type": "markdown",
      "metadata": {
        "id": "d5gJEvBlGjWH"
      },
      "source": [
        "## 2.0 Create Data Splits\n"
      ]
    },
    {
      "cell_type": "code",
      "source": [
        "# Retrieve pickled data\n",
        "\n",
        "X_Train_CompleteData = np.load(\"/content/drive/MyDrive/Capstone/Pickled_Info/X_Train.npy\")\n",
        "Y_Train_CompleteData  = np.load(\"/content/drive/MyDrive/Capstone/Pickled_Info/Y_Train.npy\")"
      ],
      "metadata": {
        "id": "yYlk_E6JG41r"
      },
      "execution_count": null,
      "outputs": []
    },
    {
      "cell_type": "code",
      "source": [
        "X_Train_CompleteData.shape\n",
        "Y_Train_CompleteData.shape"
      ],
      "metadata": {
        "id": "sQNC7tir7rS_",
        "colab": {
          "base_uri": "https://localhost:8080/"
        },
        "outputId": "6dd14fa4-4c09-4d6d-d498-fde489db17ac"
      },
      "execution_count": null,
      "outputs": [
        {
          "output_type": "execute_result",
          "data": {
            "text/plain": [
              "(8144, 300, 300, 3)"
            ]
          },
          "metadata": {},
          "execution_count": 11
        },
        {
          "output_type": "execute_result",
          "data": {
            "text/plain": [
              "(8144, 5)"
            ]
          },
          "metadata": {},
          "execution_count": 11
        }
      ]
    },
    {
      "cell_type": "code",
      "source": [
        "# Retrieve pickled data\n",
        "\n",
        "#X_Test_CompleteData = np.load(\"/content/drive/MyDrive/Capstone/Pickled_Info/X_Test.npy\")\n",
        "#Y_Test_CompleteData = np.load(\"/content/drive/MyDrive/Capstone/Pickled_Info/Y_Test.npy\")"
      ],
      "metadata": {
        "id": "cdAUURDZG-cY"
      },
      "execution_count": null,
      "outputs": []
    },
    {
      "cell_type": "code",
      "source": [
        "# Let us work first with the train data \n",
        "# If we use both , we are seeing RAM crashes"
      ],
      "metadata": {
        "id": "nQDo6NOeMXgu"
      },
      "execution_count": null,
      "outputs": []
    },
    {
      "cell_type": "code",
      "source": [
        "Y_Train_CompleteData_df=pd.DataFrame(data=Y_Train_CompleteData)"
      ],
      "metadata": {
        "id": "Eoajn_Ur-DS9"
      },
      "execution_count": null,
      "outputs": []
    },
    {
      "cell_type": "code",
      "source": [
        "Y_Train_CompleteData_df.head()"
      ],
      "metadata": {
        "id": "97UE1Rvd_LIG",
        "colab": {
          "base_uri": "https://localhost:8080/",
          "height": 206
        },
        "outputId": "75e57004-02a2-4ac1-ef77-24a1cdc90615"
      },
      "execution_count": null,
      "outputs": [
        {
          "output_type": "execute_result",
          "data": {
            "text/plain": [
              "           0           1           2           3           4\n",
              "0 37.0000000  56.0000000 276.0000000 268.0000000 184.0000000\n",
              "1 18.0000000  21.0000000 277.0000000 258.0000000 184.0000000\n",
              "2 18.0000000 135.0000000 184.0000000 225.0000000 184.0000000\n",
              "3 61.0000000  72.0000000 196.0000000 245.0000000 184.0000000\n",
              "4  3.0000000   5.0000000 283.0000000 263.0000000 184.0000000"
            ],
            "text/html": [
              "\n",
              "  <div id=\"df-a4002ed5-bd12-43b6-b601-d4a011b7b4ad\">\n",
              "    <div class=\"colab-df-container\">\n",
              "      <div>\n",
              "<style scoped>\n",
              "    .dataframe tbody tr th:only-of-type {\n",
              "        vertical-align: middle;\n",
              "    }\n",
              "\n",
              "    .dataframe tbody tr th {\n",
              "        vertical-align: top;\n",
              "    }\n",
              "\n",
              "    .dataframe thead th {\n",
              "        text-align: right;\n",
              "    }\n",
              "</style>\n",
              "<table border=\"1\" class=\"dataframe\">\n",
              "  <thead>\n",
              "    <tr style=\"text-align: right;\">\n",
              "      <th></th>\n",
              "      <th>0</th>\n",
              "      <th>1</th>\n",
              "      <th>2</th>\n",
              "      <th>3</th>\n",
              "      <th>4</th>\n",
              "    </tr>\n",
              "  </thead>\n",
              "  <tbody>\n",
              "    <tr>\n",
              "      <th>0</th>\n",
              "      <td>37.0000000</td>\n",
              "      <td>56.0000000</td>\n",
              "      <td>276.0000000</td>\n",
              "      <td>268.0000000</td>\n",
              "      <td>184.0000000</td>\n",
              "    </tr>\n",
              "    <tr>\n",
              "      <th>1</th>\n",
              "      <td>18.0000000</td>\n",
              "      <td>21.0000000</td>\n",
              "      <td>277.0000000</td>\n",
              "      <td>258.0000000</td>\n",
              "      <td>184.0000000</td>\n",
              "    </tr>\n",
              "    <tr>\n",
              "      <th>2</th>\n",
              "      <td>18.0000000</td>\n",
              "      <td>135.0000000</td>\n",
              "      <td>184.0000000</td>\n",
              "      <td>225.0000000</td>\n",
              "      <td>184.0000000</td>\n",
              "    </tr>\n",
              "    <tr>\n",
              "      <th>3</th>\n",
              "      <td>61.0000000</td>\n",
              "      <td>72.0000000</td>\n",
              "      <td>196.0000000</td>\n",
              "      <td>245.0000000</td>\n",
              "      <td>184.0000000</td>\n",
              "    </tr>\n",
              "    <tr>\n",
              "      <th>4</th>\n",
              "      <td>3.0000000</td>\n",
              "      <td>5.0000000</td>\n",
              "      <td>283.0000000</td>\n",
              "      <td>263.0000000</td>\n",
              "      <td>184.0000000</td>\n",
              "    </tr>\n",
              "  </tbody>\n",
              "</table>\n",
              "</div>\n",
              "      <button class=\"colab-df-convert\" onclick=\"convertToInteractive('df-a4002ed5-bd12-43b6-b601-d4a011b7b4ad')\"\n",
              "              title=\"Convert this dataframe to an interactive table.\"\n",
              "              style=\"display:none;\">\n",
              "        \n",
              "  <svg xmlns=\"http://www.w3.org/2000/svg\" height=\"24px\"viewBox=\"0 0 24 24\"\n",
              "       width=\"24px\">\n",
              "    <path d=\"M0 0h24v24H0V0z\" fill=\"none\"/>\n",
              "    <path d=\"M18.56 5.44l.94 2.06.94-2.06 2.06-.94-2.06-.94-.94-2.06-.94 2.06-2.06.94zm-11 1L8.5 8.5l.94-2.06 2.06-.94-2.06-.94L8.5 2.5l-.94 2.06-2.06.94zm10 10l.94 2.06.94-2.06 2.06-.94-2.06-.94-.94-2.06-.94 2.06-2.06.94z\"/><path d=\"M17.41 7.96l-1.37-1.37c-.4-.4-.92-.59-1.43-.59-.52 0-1.04.2-1.43.59L10.3 9.45l-7.72 7.72c-.78.78-.78 2.05 0 2.83L4 21.41c.39.39.9.59 1.41.59.51 0 1.02-.2 1.41-.59l7.78-7.78 2.81-2.81c.8-.78.8-2.07 0-2.86zM5.41 20L4 18.59l7.72-7.72 1.47 1.35L5.41 20z\"/>\n",
              "  </svg>\n",
              "      </button>\n",
              "      \n",
              "  <style>\n",
              "    .colab-df-container {\n",
              "      display:flex;\n",
              "      flex-wrap:wrap;\n",
              "      gap: 12px;\n",
              "    }\n",
              "\n",
              "    .colab-df-convert {\n",
              "      background-color: #E8F0FE;\n",
              "      border: none;\n",
              "      border-radius: 50%;\n",
              "      cursor: pointer;\n",
              "      display: none;\n",
              "      fill: #1967D2;\n",
              "      height: 32px;\n",
              "      padding: 0 0 0 0;\n",
              "      width: 32px;\n",
              "    }\n",
              "\n",
              "    .colab-df-convert:hover {\n",
              "      background-color: #E2EBFA;\n",
              "      box-shadow: 0px 1px 2px rgba(60, 64, 67, 0.3), 0px 1px 3px 1px rgba(60, 64, 67, 0.15);\n",
              "      fill: #174EA6;\n",
              "    }\n",
              "\n",
              "    [theme=dark] .colab-df-convert {\n",
              "      background-color: #3B4455;\n",
              "      fill: #D2E3FC;\n",
              "    }\n",
              "\n",
              "    [theme=dark] .colab-df-convert:hover {\n",
              "      background-color: #434B5C;\n",
              "      box-shadow: 0px 1px 3px 1px rgba(0, 0, 0, 0.15);\n",
              "      filter: drop-shadow(0px 1px 2px rgba(0, 0, 0, 0.3));\n",
              "      fill: #FFFFFF;\n",
              "    }\n",
              "  </style>\n",
              "\n",
              "      <script>\n",
              "        const buttonEl =\n",
              "          document.querySelector('#df-a4002ed5-bd12-43b6-b601-d4a011b7b4ad button.colab-df-convert');\n",
              "        buttonEl.style.display =\n",
              "          google.colab.kernel.accessAllowed ? 'block' : 'none';\n",
              "\n",
              "        async function convertToInteractive(key) {\n",
              "          const element = document.querySelector('#df-a4002ed5-bd12-43b6-b601-d4a011b7b4ad');\n",
              "          const dataTable =\n",
              "            await google.colab.kernel.invokeFunction('convertToInteractive',\n",
              "                                                     [key], {});\n",
              "          if (!dataTable) return;\n",
              "\n",
              "          const docLinkHtml = 'Like what you see? Visit the ' +\n",
              "            '<a target=\"_blank\" href=https://colab.research.google.com/notebooks/data_table.ipynb>data table notebook</a>'\n",
              "            + ' to learn more about interactive tables.';\n",
              "          element.innerHTML = '';\n",
              "          dataTable['output_type'] = 'display_data';\n",
              "          await google.colab.output.renderOutput(dataTable, element);\n",
              "          const docLink = document.createElement('div');\n",
              "          docLink.innerHTML = docLinkHtml;\n",
              "          element.appendChild(docLink);\n",
              "        }\n",
              "      </script>\n",
              "    </div>\n",
              "  </div>\n",
              "  "
            ]
          },
          "metadata": {},
          "execution_count": 15
        }
      ]
    },
    {
      "cell_type": "code",
      "source": [
        "from sklearn.model_selection import train_test_split\n",
        "X_Train, X_Test, Y_Train, Y_Test=train_test_split(X_Train_CompleteData,Y_Train_CompleteData,test_size=0.2,random_state=1,stratify=Y_Train_CompleteData_df[4])\n",
        "print(\"X_Train.shape\",X_Train.shape)\n",
        "print(\"X_Test.shape\",X_Test.shape)\n",
        "print(\"Y_Train.shape\",Y_Train.shape)\n",
        "print(\"Y_Test.shape\",Y_Test.shape)"
      ],
      "metadata": {
        "id": "EVjTBEqx5QDy",
        "colab": {
          "base_uri": "https://localhost:8080/"
        },
        "outputId": "4bac8244-810b-4ac4-8b8b-f5fff04beca1"
      },
      "execution_count": null,
      "outputs": [
        {
          "output_type": "stream",
          "name": "stdout",
          "text": [
            "X_Train.shape (6515, 300, 300, 3)\n",
            "X_Test.shape (1629, 300, 300, 3)\n",
            "Y_Train.shape (6515, 5)\n",
            "Y_Test.shape (1629, 5)\n"
          ]
        }
      ]
    },
    {
      "cell_type": "code",
      "source": [
        "Y_Test_df=pd.DataFrame(data=Y_Test)"
      ],
      "metadata": {
        "id": "4in53RtQ798T"
      },
      "execution_count": null,
      "outputs": []
    },
    {
      "cell_type": "code",
      "source": [
        "from sklearn.model_selection import train_test_split\n",
        "X_Train, X_Test, Y_Train, Y_Test=train_test_split(X_Test,Y_Test,test_size=0.2,random_state=1,stratify=Y_Test_df[4])\n",
        "print(\"X_Train.shape\",X_Train.shape)\n",
        "print(\"X_Test.shape\",X_Test.shape)\n",
        "print(\"Y_Train.shape\",Y_Train.shape)\n",
        "print(\"Y_Test.shape\",Y_Test.shape)"
      ],
      "metadata": {
        "id": "ihU5vkbZ2fOq",
        "colab": {
          "base_uri": "https://localhost:8080/"
        },
        "outputId": "e4f92bc7-f205-46f5-c06c-cea8a8315ac4"
      },
      "execution_count": null,
      "outputs": [
        {
          "output_type": "stream",
          "name": "stdout",
          "text": [
            "X_Train.shape (1303, 300, 300, 3)\n",
            "X_Test.shape (326, 300, 300, 3)\n",
            "Y_Train.shape (1303, 5)\n",
            "Y_Test.shape (326, 5)\n"
          ]
        }
      ]
    },
    {
      "cell_type": "code",
      "source": [
        "Y_Train[0:5]"
      ],
      "metadata": {
        "id": "ybC_-4u0_9Re",
        "colab": {
          "base_uri": "https://localhost:8080/"
        },
        "outputId": "4b15b615-2b3b-4d32-d22f-8c8994fc9d94"
      },
      "execution_count": null,
      "outputs": [
        {
          "output_type": "execute_result",
          "data": {
            "text/plain": [
              "array([[ 26.,  80., 269., 230., 170.],\n",
              "       [  0., 133., 295., 295.,  80.],\n",
              "       [  9.,  21., 289., 296., 162.],\n",
              "       [  4.,  52., 289., 228.,  57.],\n",
              "       [ 80.,  80., 219., 245.,  78.]])"
            ]
          },
          "metadata": {},
          "execution_count": 19
        }
      ]
    },
    {
      "cell_type": "code",
      "source": [
        "\n",
        "# NTS: to_pickle function not available , have to use save and in npy format \n",
        "np.save(\"/content/drive/MyDrive/Capstone/Pickled_Info/X_Train_Subset.npy\",X_Train)\n",
        "np.save(\"/content/drive/MyDrive/Capstone/Pickled_Info/Y_Train_Subset.npy\",Y_Train)\n",
        "\n",
        "np.save(\"/content/drive/MyDrive/Capstone/Pickled_Info/X_Test_Subset.npy\",X_Test)\n",
        "np.save(\"/content/drive/MyDrive/Capstone/Pickled_Info/Y_Test_Subset.npy\",Y_Test)"
      ],
      "metadata": {
        "id": "YotpL6_jAJ7U"
      },
      "execution_count": null,
      "outputs": []
    },
    {
      "cell_type": "code",
      "source": [
        ""
      ],
      "metadata": {
        "id": "wsr2sGz2B4oZ"
      },
      "execution_count": null,
      "outputs": []
    },
    {
      "cell_type": "markdown",
      "metadata": {
        "id": "dnak6aQTB45N"
      },
      "source": [
        "## 3.0 Retrive Pickled  Data Splits\n"
      ]
    },
    {
      "cell_type": "code",
      "execution_count": null,
      "metadata": {
        "id": "ap9LObBqCH9R"
      },
      "outputs": [],
      "source": [
        "\n",
        "X_Train = np.load(\"/content/drive/MyDrive/Capstone/Pickled_Info/X_Train_Subset.npy\")\n",
        "Y_Train  = np.load(\"/content/drive/MyDrive/Capstone/Pickled_Info/Y_Train_Subset.npy\")"
      ]
    },
    {
      "cell_type": "code",
      "execution_count": null,
      "metadata": {
        "id": "4c61j9cECMwF"
      },
      "outputs": [],
      "source": [
        "X_Test = np.load(\"/content/drive/MyDrive/Capstone/Pickled_Info/X_Test_Subset.npy\")\n",
        "Y_Test  = np.load(\"/content/drive/MyDrive/Capstone/Pickled_Info/Y_Test_Subset.npy\")"
      ]
    },
    {
      "cell_type": "markdown",
      "metadata": {
        "id": "Nt5kqNeUkgGs"
      },
      "source": [
        "## 4.0 Prepare Data for model building"
      ]
    },
    {
      "cell_type": "code",
      "execution_count": null,
      "metadata": {
        "id": "jaEJWDQ9kgGt"
      },
      "outputs": [],
      "source": [
        "# Below we build our baseline n/w"
      ]
    },
    {
      "cell_type": "code",
      "execution_count": null,
      "metadata": {
        "id": "T-S5EklykgGu"
      },
      "outputs": [],
      "source": [
        "# First prepare data for Mobile Net model we will build"
      ]
    },
    {
      "cell_type": "code",
      "execution_count": null,
      "metadata": {
        "colab": {
          "base_uri": "https://localhost:8080/"
        },
        "id": "9XT-QIUekgGu",
        "outputId": "8d368b8a-2484-46c4-dec0-b724110e5a4f"
      },
      "outputs": [
        {
          "output_type": "execute_result",
          "data": {
            "text/plain": [
              "(1303, 300, 300, 3)"
            ]
          },
          "metadata": {},
          "execution_count": 25
        },
        {
          "output_type": "execute_result",
          "data": {
            "text/plain": [
              "(1303, 5)"
            ]
          },
          "metadata": {},
          "execution_count": 25
        },
        {
          "output_type": "execute_result",
          "data": {
            "text/plain": [
              "(326, 300, 300, 3)"
            ]
          },
          "metadata": {},
          "execution_count": 25
        },
        {
          "output_type": "execute_result",
          "data": {
            "text/plain": [
              "(326, 5)"
            ]
          },
          "metadata": {},
          "execution_count": 25
        }
      ],
      "source": [
        "X_Train.shape\n",
        "Y_Train.shape\n",
        "X_Test.shape\n",
        "Y_Test.shape"
      ]
    },
    {
      "cell_type": "code",
      "execution_count": null,
      "metadata": {
        "colab": {
          "base_uri": "https://localhost:8080/"
        },
        "id": "6zO6pP6ANDGA",
        "outputId": "26df4804-f69d-491e-8b1e-3391000b08c5"
      },
      "outputs": [
        {
          "output_type": "execute_result",
          "data": {
            "text/plain": [
              "array([[ 15.,  69., 282., 277., 113.],\n",
              "       [ 82., 123., 238., 242., 177.],\n",
              "       [ 55.,  16., 271., 295., 112.],\n",
              "       [ 20.,  30., 299., 222.,  61.],\n",
              "       [ 33.,  94., 282., 247., 123.]])"
            ]
          },
          "metadata": {},
          "execution_count": 26
        }
      ],
      "source": [
        "Y_Test[0:5]"
      ]
    },
    {
      "cell_type": "code",
      "execution_count": null,
      "metadata": {
        "id": "uPpKCPuctoRb"
      },
      "outputs": [],
      "source": [
        "# First lets convert it into integers all numbers \n",
        "\n",
        "Y_Train=Y_Train.astype(int)\n",
        "Y_Test=Y_Test.astype(int)"
      ]
    },
    {
      "cell_type": "code",
      "execution_count": null,
      "metadata": {
        "colab": {
          "base_uri": "https://localhost:8080/"
        },
        "id": "clDCjduau4ik",
        "outputId": "538443e9-edb0-471f-bd01-db383d38d85e"
      },
      "outputs": [
        {
          "output_type": "execute_result",
          "data": {
            "text/plain": [
              "array([[ 26,  80, 269, 230, 170],\n",
              "       [  0, 133, 295, 295,  80],\n",
              "       [  9,  21, 289, 296, 162],\n",
              "       [  4,  52, 289, 228,  57],\n",
              "       [ 80,  80, 219, 245,  78]])"
            ]
          },
          "metadata": {},
          "execution_count": 28
        },
        {
          "output_type": "execute_result",
          "data": {
            "text/plain": [
              "array([[ 15,  69, 282, 277, 113],\n",
              "       [ 82, 123, 238, 242, 177],\n",
              "       [ 55,  16, 271, 295, 112],\n",
              "       [ 20,  30, 299, 222,  61],\n",
              "       [ 33,  94, 282, 247, 123]])"
            ]
          },
          "metadata": {},
          "execution_count": 28
        }
      ],
      "source": [
        "Y_Train[0:5]\n",
        "Y_Test[0:5]"
      ]
    },
    {
      "cell_type": "code",
      "execution_count": null,
      "metadata": {
        "id": "WiBOqXrNbtKy"
      },
      "outputs": [],
      "source": [
        "# Prepare labels for Classification Head"
      ]
    },
    {
      "cell_type": "code",
      "execution_count": null,
      "metadata": {
        "id": "ev1FWVA6bbsC"
      },
      "outputs": [],
      "source": [
        "Y_Train_MobileNet_ClassInput=np.delete(Y_Train,obj=[0,1,2,3],axis=1)"
      ]
    },
    {
      "cell_type": "code",
      "execution_count": null,
      "metadata": {
        "id": "t8Ki35EPbl7C"
      },
      "outputs": [],
      "source": [
        "Y_Test_MobileNet_ClassInput=np.delete(Y_Test,obj=[0,1,2,3],axis=1)"
      ]
    },
    {
      "cell_type": "code",
      "execution_count": null,
      "metadata": {
        "colab": {
          "base_uri": "https://localhost:8080/"
        },
        "id": "9bzCGYimb43-",
        "outputId": "7e7e20b3-47d9-4b21-d4ef-2c463e1df16b"
      },
      "outputs": [
        {
          "output_type": "execute_result",
          "data": {
            "text/plain": [
              "196"
            ]
          },
          "metadata": {},
          "execution_count": 32
        },
        {
          "output_type": "stream",
          "name": "stdout",
          "text": [
            "\n",
            "\n"
          ]
        },
        {
          "output_type": "execute_result",
          "data": {
            "text/plain": [
              "1"
            ]
          },
          "metadata": {},
          "execution_count": 32
        },
        {
          "output_type": "stream",
          "name": "stdout",
          "text": [
            "\n",
            "\n"
          ]
        },
        {
          "output_type": "execute_result",
          "data": {
            "text/plain": [
              "196"
            ]
          },
          "metadata": {},
          "execution_count": 32
        },
        {
          "output_type": "stream",
          "name": "stdout",
          "text": [
            "\n",
            "\n"
          ]
        },
        {
          "output_type": "execute_result",
          "data": {
            "text/plain": [
              "1"
            ]
          },
          "metadata": {},
          "execution_count": 32
        },
        {
          "output_type": "stream",
          "name": "stdout",
          "text": [
            "\n",
            "\n"
          ]
        }
      ],
      "source": [
        "Y_Train_MobileNet_ClassInput.max()\n",
        "print('\\n')\n",
        "Y_Train_MobileNet_ClassInput.min()\n",
        "print('\\n')\n",
        "Y_Test_MobileNet_ClassInput.max()\n",
        "print('\\n')\n",
        "Y_Test_MobileNet_ClassInput.min()\n",
        "print('\\n')"
      ]
    },
    {
      "cell_type": "code",
      "execution_count": null,
      "metadata": {
        "id": "m4N00MRzvJn_"
      },
      "outputs": [],
      "source": [
        "# Classes dont start from 0 so\n",
        "# First encode\n",
        "#Then convert to OHV"
      ]
    },
    {
      "cell_type": "code",
      "execution_count": null,
      "metadata": {
        "colab": {
          "base_uri": "https://localhost:8080/"
        },
        "id": "ZRRQEzjEcJXR",
        "outputId": "ccd06865-2dc2-4fff-fc5d-cd2e69d47ad5"
      },
      "outputs": [
        {
          "output_type": "execute_result",
          "data": {
            "text/plain": [
              "LabelEncoder()"
            ]
          },
          "metadata": {},
          "execution_count": 34
        }
      ],
      "source": [
        "# Lets convert these labels to one hot vectors\n",
        "\n",
        "# First encode the labels ,they are from 1 to 196, we want them to be from 0 to 195\n",
        "# Deep learing : Lets try a simple ANN on the data \n",
        "\n",
        "from sklearn.preprocessing import LabelEncoder\n",
        "# encode class values as integers\n",
        "encoder = LabelEncoder()\n",
        "encoder.fit(Y_Train_MobileNet_ClassInput)\n",
        "Y_Train_MobileNet_ClassInput= encoder.transform(Y_Train_MobileNet_ClassInput)\n",
        "Y_Test_MobileNet_ClassInput = encoder.transform(Y_Test_MobileNet_ClassInput)\n",
        "#type(encoded_YTrain)"
      ]
    },
    {
      "cell_type": "code",
      "execution_count": null,
      "metadata": {
        "colab": {
          "base_uri": "https://localhost:8080/"
        },
        "id": "fKGhVuHxvXQq",
        "outputId": "2eed1ee6-897d-4910-c028-3c88ea8ddb96"
      },
      "outputs": [
        {
          "output_type": "execute_result",
          "data": {
            "text/plain": [
              "195"
            ]
          },
          "metadata": {},
          "execution_count": 35
        },
        {
          "output_type": "stream",
          "name": "stdout",
          "text": [
            "\n",
            "\n"
          ]
        },
        {
          "output_type": "execute_result",
          "data": {
            "text/plain": [
              "0"
            ]
          },
          "metadata": {},
          "execution_count": 35
        },
        {
          "output_type": "stream",
          "name": "stdout",
          "text": [
            "\n",
            "\n"
          ]
        },
        {
          "output_type": "execute_result",
          "data": {
            "text/plain": [
              "195"
            ]
          },
          "metadata": {},
          "execution_count": 35
        },
        {
          "output_type": "stream",
          "name": "stdout",
          "text": [
            "\n",
            "\n"
          ]
        },
        {
          "output_type": "execute_result",
          "data": {
            "text/plain": [
              "0"
            ]
          },
          "metadata": {},
          "execution_count": 35
        },
        {
          "output_type": "stream",
          "name": "stdout",
          "text": [
            "\n",
            "\n"
          ]
        }
      ],
      "source": [
        "# Recheck max and min\n",
        "\n",
        "Y_Train_MobileNet_ClassInput.max()\n",
        "print('\\n')\n",
        "Y_Train_MobileNet_ClassInput.min()\n",
        "print('\\n')\n",
        "Y_Test_MobileNet_ClassInput.max()\n",
        "print('\\n')\n",
        "Y_Test_MobileNet_ClassInput.min()\n",
        "print('\\n')\n",
        "\n",
        "# Looks good now  range(0,195)"
      ]
    },
    {
      "cell_type": "code",
      "execution_count": null,
      "metadata": {
        "colab": {
          "base_uri": "https://localhost:8080/"
        },
        "id": "iZZeapxiUNy4",
        "outputId": "6ec25cc8-49c8-4ac7-8bcf-b08c7579f488"
      },
      "outputs": [
        {
          "output_type": "execute_result",
          "data": {
            "text/plain": [
              "176"
            ]
          },
          "metadata": {},
          "execution_count": 36
        },
        {
          "output_type": "stream",
          "name": "stdout",
          "text": [
            "\n",
            "\n"
          ]
        },
        {
          "output_type": "execute_result",
          "data": {
            "text/plain": [
              "177"
            ]
          },
          "metadata": {},
          "execution_count": 36
        }
      ],
      "source": [
        "Y_Train_MobileNet_ClassInput[5]\n",
        "print(\"\\n\")\n",
        "Y_Train[5][4]\n",
        "\n",
        "#Looks good"
      ]
    },
    {
      "cell_type": "code",
      "execution_count": null,
      "metadata": {
        "colab": {
          "base_uri": "https://localhost:8080/"
        },
        "id": "tTRAE5-4wLiZ",
        "outputId": "e82db5b4-2967-4a8f-87b5-9de71b87e39b"
      },
      "outputs": [
        {
          "output_type": "execute_result",
          "data": {
            "text/plain": [
              "161"
            ]
          },
          "metadata": {},
          "execution_count": 37
        },
        {
          "output_type": "stream",
          "name": "stdout",
          "text": [
            "\n",
            "\n"
          ]
        },
        {
          "output_type": "execute_result",
          "data": {
            "text/plain": [
              "162"
            ]
          },
          "metadata": {},
          "execution_count": 37
        }
      ],
      "source": [
        "# Now the same for Test\n",
        "\n",
        "Y_Test_MobileNet_ClassInput[5]\n",
        "print(\"\\n\")\n",
        "Y_Test[5][4]\n",
        "\n",
        "#Looks good"
      ]
    },
    {
      "cell_type": "code",
      "execution_count": null,
      "metadata": {
        "id": "kpkXJd0YdTCY"
      },
      "outputs": [],
      "source": [
        "## Label encoding has ben done correctly, lets proceed"
      ]
    },
    {
      "cell_type": "code",
      "execution_count": null,
      "metadata": {
        "colab": {
          "base_uri": "https://localhost:8080/"
        },
        "id": "wnEpYDmHKdn9",
        "outputId": "85c0958e-bca3-441b-c135-a56a135bfec9"
      },
      "outputs": [
        {
          "output_type": "execute_result",
          "data": {
            "text/plain": [
              "(1303,)"
            ]
          },
          "metadata": {},
          "execution_count": 39
        }
      ],
      "source": [
        "Y_Train_MobileNet_ClassInput.shape"
      ]
    },
    {
      "cell_type": "code",
      "execution_count": null,
      "metadata": {
        "colab": {
          "base_uri": "https://localhost:8080/"
        },
        "id": "_niaDincLNDP",
        "outputId": "23654298-6995-4604-bd1c-527c6717cc39"
      },
      "outputs": [
        {
          "output_type": "execute_result",
          "data": {
            "text/plain": [
              "0       7\n",
              "1       5\n",
              "2       7\n",
              "3       6\n",
              "4       6\n",
              "5       7\n",
              "6       7\n",
              "7       7\n",
              "8       6\n",
              "9       5\n",
              "10      6\n",
              "11      6\n",
              "12      6\n",
              "13      7\n",
              "14      7\n",
              "15      7\n",
              "16      7\n",
              "17      7\n",
              "18      6\n",
              "19      7\n",
              "20      6\n",
              "21      7\n",
              "22      6\n",
              "23      7\n",
              "24      6\n",
              "25      6\n",
              "26      6\n",
              "27      7\n",
              "28      7\n",
              "29      7\n",
              "30      7\n",
              "31      6\n",
              "32      6\n",
              "33      7\n",
              "34      7\n",
              "35      6\n",
              "36      6\n",
              "37      7\n",
              "38      6\n",
              "39      6\n",
              "40      6\n",
              "41      6\n",
              "42      7\n",
              "43      7\n",
              "44      5\n",
              "45      7\n",
              "46      6\n",
              "47      7\n",
              "48      7\n",
              "49      7\n",
              "50      7\n",
              "51      6\n",
              "52      7\n",
              "53      6\n",
              "54      7\n",
              "55      7\n",
              "56      6\n",
              "57      7\n",
              "58      7\n",
              "59      6\n",
              "60      7\n",
              "61      6\n",
              "62      7\n",
              "63      5\n",
              "64      7\n",
              "65      6\n",
              "66      6\n",
              "67      7\n",
              "68      6\n",
              "69      7\n",
              "70      6\n",
              "71      7\n",
              "72      7\n",
              "73      7\n",
              "74      7\n",
              "75      7\n",
              "76      7\n",
              "77      7\n",
              "78      8\n",
              "79      7\n",
              "80      7\n",
              "81      7\n",
              "82      6\n",
              "83      7\n",
              "84      7\n",
              "85      7\n",
              "86      7\n",
              "87      7\n",
              "88      7\n",
              "89      7\n",
              "90      7\n",
              "91      7\n",
              "92      7\n",
              "93      7\n",
              "94      7\n",
              "95      7\n",
              "96      7\n",
              "97      7\n",
              "98      4\n",
              "99      6\n",
              "100     7\n",
              "101     7\n",
              "102     6\n",
              "103     7\n",
              "104     7\n",
              "105     6\n",
              "106     7\n",
              "107     7\n",
              "108     7\n",
              "109     7\n",
              "110     6\n",
              "111     7\n",
              "112     7\n",
              "113     7\n",
              "114     7\n",
              "115     7\n",
              "116     7\n",
              "117     7\n",
              "118    11\n",
              "119     7\n",
              "120     7\n",
              "121     7\n",
              "122     7\n",
              "123     6\n",
              "124     7\n",
              "125     7\n",
              "126     6\n",
              "127     7\n",
              "128     6\n",
              "129     7\n",
              "130     7\n",
              "131     7\n",
              "132     6\n",
              "133     6\n",
              "134     7\n",
              "135     4\n",
              "136     7\n",
              "137     7\n",
              "138     7\n",
              "139     6\n",
              "140     6\n",
              "141     5\n",
              "142     7\n",
              "143     7\n",
              "144     7\n",
              "145     7\n",
              "146     7\n",
              "147     7\n",
              "148     7\n",
              "149     6\n",
              "150     7\n",
              "151     6\n",
              "152     7\n",
              "153     7\n",
              "154     7\n",
              "155     7\n",
              "156     6\n",
              "157     5\n",
              "158     6\n",
              "159     7\n",
              "160     8\n",
              "161     7\n",
              "162     6\n",
              "163     7\n",
              "164     7\n",
              "165     6\n",
              "166     8\n",
              "167     6\n",
              "168     7\n",
              "169     7\n",
              "170     7\n",
              "171     7\n",
              "172     7\n",
              "173     6\n",
              "174     5\n",
              "175     6\n",
              "176     7\n",
              "177     7\n",
              "178     7\n",
              "179     7\n",
              "180     6\n",
              "181     7\n",
              "182     7\n",
              "183     6\n",
              "184     7\n",
              "185     6\n",
              "186     7\n",
              "187     7\n",
              "188     6\n",
              "189     7\n",
              "190     7\n",
              "191     7\n",
              "192     6\n",
              "193     7\n",
              "194     7\n",
              "195     7\n",
              "dtype: int64"
            ]
          },
          "metadata": {},
          "execution_count": 40
        }
      ],
      "source": [
        "pd.DataFrame(Y_Train_MobileNet_ClassInput).value_counts().sort_index()"
      ]
    },
    {
      "cell_type": "code",
      "execution_count": null,
      "metadata": {
        "colab": {
          "base_uri": "https://localhost:8080/"
        },
        "id": "Ij50y36MMMw5",
        "outputId": "51716a62-347d-48c3-b467-63d4c79facc9"
      },
      "outputs": [
        {
          "output_type": "execute_result",
          "data": {
            "text/plain": [
              "0      2\n",
              "1      1\n",
              "2      2\n",
              "3      2\n",
              "4      2\n",
              "5      2\n",
              "6      1\n",
              "7      2\n",
              "8      2\n",
              "9      1\n",
              "10     1\n",
              "11     1\n",
              "12     2\n",
              "13     2\n",
              "14     2\n",
              "15     2\n",
              "16     1\n",
              "17     2\n",
              "18     2\n",
              "19     2\n",
              "20     2\n",
              "21     2\n",
              "22     2\n",
              "23     2\n",
              "24     2\n",
              "25     1\n",
              "26     1\n",
              "27     1\n",
              "28     2\n",
              "29     1\n",
              "30     2\n",
              "31     2\n",
              "32     2\n",
              "33     2\n",
              "34     1\n",
              "35     2\n",
              "36     2\n",
              "37     1\n",
              "38     1\n",
              "39     2\n",
              "40     1\n",
              "41     1\n",
              "42     2\n",
              "43     2\n",
              "44     1\n",
              "45     2\n",
              "46     1\n",
              "47     2\n",
              "48     1\n",
              "49     1\n",
              "50     2\n",
              "51     2\n",
              "52     2\n",
              "53     2\n",
              "54     1\n",
              "55     2\n",
              "56     2\n",
              "57     2\n",
              "58     2\n",
              "59     1\n",
              "60     2\n",
              "61     1\n",
              "62     2\n",
              "63     1\n",
              "64     2\n",
              "65     2\n",
              "66     2\n",
              "67     1\n",
              "68     1\n",
              "69     2\n",
              "70     1\n",
              "71     2\n",
              "72     2\n",
              "73     2\n",
              "74     2\n",
              "75     2\n",
              "76     1\n",
              "77     1\n",
              "78     2\n",
              "79     2\n",
              "80     2\n",
              "81     2\n",
              "82     2\n",
              "83     1\n",
              "84     2\n",
              "85     2\n",
              "86     2\n",
              "87     1\n",
              "88     2\n",
              "89     1\n",
              "90     1\n",
              "91     1\n",
              "92     1\n",
              "93     2\n",
              "94     2\n",
              "95     1\n",
              "96     1\n",
              "97     2\n",
              "98     1\n",
              "99     1\n",
              "100    1\n",
              "101    1\n",
              "102    2\n",
              "103    2\n",
              "104    2\n",
              "105    2\n",
              "106    2\n",
              "107    2\n",
              "108    2\n",
              "109    2\n",
              "110    2\n",
              "111    2\n",
              "112    2\n",
              "113    2\n",
              "114    2\n",
              "115    1\n",
              "116    2\n",
              "117    1\n",
              "118    3\n",
              "119    2\n",
              "120    2\n",
              "121    1\n",
              "122    2\n",
              "123    2\n",
              "124    2\n",
              "125    1\n",
              "126    2\n",
              "127    1\n",
              "128    2\n",
              "129    1\n",
              "130    1\n",
              "131    2\n",
              "132    2\n",
              "133    1\n",
              "134    1\n",
              "135    1\n",
              "136    2\n",
              "137    1\n",
              "138    2\n",
              "139    2\n",
              "140    1\n",
              "141    1\n",
              "142    1\n",
              "143    2\n",
              "144    2\n",
              "145    2\n",
              "146    2\n",
              "147    2\n",
              "148    2\n",
              "149    1\n",
              "150    2\n",
              "151    1\n",
              "152    2\n",
              "153    2\n",
              "154    2\n",
              "155    1\n",
              "156    1\n",
              "157    1\n",
              "158    1\n",
              "159    2\n",
              "160    2\n",
              "161    2\n",
              "162    1\n",
              "163    2\n",
              "164    2\n",
              "165    2\n",
              "166    2\n",
              "167    2\n",
              "168    1\n",
              "169    2\n",
              "170    2\n",
              "171    2\n",
              "172    2\n",
              "173    2\n",
              "174    1\n",
              "175    2\n",
              "176    2\n",
              "177    1\n",
              "178    2\n",
              "179    2\n",
              "180    2\n",
              "181    2\n",
              "182    1\n",
              "183    2\n",
              "184    1\n",
              "185    2\n",
              "186    2\n",
              "187    2\n",
              "188    2\n",
              "189    2\n",
              "190    2\n",
              "191    2\n",
              "192    2\n",
              "193    2\n",
              "194    2\n",
              "195    1\n",
              "dtype: int64"
            ]
          },
          "metadata": {},
          "execution_count": 41
        }
      ],
      "source": [
        "pd.DataFrame(Y_Test_MobileNet_ClassInput).value_counts().sort_index()"
      ]
    },
    {
      "cell_type": "code",
      "execution_count": null,
      "metadata": {
        "colab": {
          "base_uri": "https://localhost:8080/"
        },
        "id": "TZXYAehuJ8gI",
        "outputId": "c9f1f8e5-a781-4386-a007-a4ceba6852bc"
      },
      "outputs": [
        {
          "output_type": "stream",
          "name": "stdout",
          "text": [
            "Y_Train_MobileNet_ClassInput.shape (1303, 196)\n",
            "Y_Test_MobileNet_ClassInput.shape (326, 196)\n"
          ]
        }
      ],
      "source": [
        "# Convert to OHV\n",
        "# Convert above  to One hot vectors \n",
        "from tensorflow.keras.utils import to_categorical\n",
        "\n",
        "Y_Train_MobileNet_ClassInput = to_categorical(Y_Train_MobileNet_ClassInput, num_classes=196)\n",
        "Y_Test_MobileNet_ClassInput = to_categorical(Y_Test_MobileNet_ClassInput, num_classes=196)\n",
        "\n",
        "print(\"Y_Train_MobileNet_ClassInput.shape\",Y_Train_MobileNet_ClassInput.shape)\n",
        "print(\"Y_Test_MobileNet_ClassInput.shape\",Y_Test_MobileNet_ClassInput.shape)"
      ]
    },
    {
      "cell_type": "code",
      "execution_count": null,
      "metadata": {
        "colab": {
          "base_uri": "https://localhost:8080/"
        },
        "id": "r9pVtMuXe8MD",
        "outputId": "c08015d5-9bfc-45fb-a6ea-866b88fbf7e1"
      },
      "outputs": [
        {
          "output_type": "execute_result",
          "data": {
            "text/plain": [
              "array([0., 0., 0., 0., 0., 0., 0., 0., 0., 0., 0., 0., 0., 0., 0., 0., 0.,\n",
              "       0., 0., 0., 0., 0., 0., 0., 0., 0., 0., 0., 0., 0., 0., 0., 0., 0.,\n",
              "       0., 0., 0., 0., 0., 0., 0., 0., 0., 0., 0., 0., 0., 0., 0., 0., 0.,\n",
              "       0., 0., 0., 0., 0., 0., 0., 0., 0., 0., 0., 0., 0., 0., 0., 0., 0.,\n",
              "       0., 0., 0., 0., 0., 0., 0., 0., 0., 0., 0., 0., 0., 0., 0., 0., 0.,\n",
              "       0., 0., 0., 0., 0., 0., 0., 0., 0., 0., 0., 0., 0., 0., 0., 0., 0.,\n",
              "       0., 0., 0., 0., 0., 0., 0., 0., 0., 0., 0., 0., 0., 0., 0., 0., 0.,\n",
              "       0., 0., 0., 0., 0., 0., 0., 0., 0., 0., 0., 0., 0., 0., 0., 0., 0.,\n",
              "       0., 0., 0., 0., 0., 0., 0., 0., 0., 0., 0., 0., 0., 0., 0., 0., 0.,\n",
              "       0., 0., 0., 0., 0., 0., 0., 0., 0., 0., 0., 0., 0., 0., 0., 0., 1.,\n",
              "       0., 0., 0., 0., 0., 0., 0., 0., 0., 0., 0., 0., 0., 0., 0., 0., 0.,\n",
              "       0., 0., 0., 0., 0., 0., 0., 0., 0.], dtype=float32)"
            ]
          },
          "metadata": {},
          "execution_count": 43
        },
        {
          "output_type": "execute_result",
          "data": {
            "text/plain": [
              "array([0., 0., 0., 0., 0., 0., 0., 0., 0., 0., 0., 0., 0., 0., 0., 0., 0.,\n",
              "       0., 0., 0., 0., 0., 0., 0., 0., 0., 0., 0., 0., 0., 0., 0., 0., 0.,\n",
              "       0., 0., 0., 0., 0., 0., 0., 0., 0., 0., 0., 0., 0., 0., 0., 0., 0.,\n",
              "       0., 0., 0., 0., 0., 0., 0., 0., 0., 0., 0., 0., 0., 0., 0., 0., 0.,\n",
              "       0., 0., 0., 0., 0., 0., 0., 0., 0., 0., 0., 0., 0., 0., 0., 0., 0.,\n",
              "       0., 0., 0., 0., 0., 0., 0., 0., 0., 0., 0., 0., 0., 0., 0., 0., 0.,\n",
              "       0., 0., 0., 0., 0., 0., 0., 0., 0., 0., 1., 0., 0., 0., 0., 0., 0.,\n",
              "       0., 0., 0., 0., 0., 0., 0., 0., 0., 0., 0., 0., 0., 0., 0., 0., 0.,\n",
              "       0., 0., 0., 0., 0., 0., 0., 0., 0., 0., 0., 0., 0., 0., 0., 0., 0.,\n",
              "       0., 0., 0., 0., 0., 0., 0., 0., 0., 0., 0., 0., 0., 0., 0., 0., 0.,\n",
              "       0., 0., 0., 0., 0., 0., 0., 0., 0., 0., 0., 0., 0., 0., 0., 0., 0.,\n",
              "       0., 0., 0., 0., 0., 0., 0., 0., 0.], dtype=float32)"
            ]
          },
          "metadata": {},
          "execution_count": 43
        }
      ],
      "source": [
        "Y_Train_MobileNet_ClassInput[0]\n",
        "Y_Test_MobileNet_ClassInput[0]"
      ]
    },
    {
      "cell_type": "code",
      "execution_count": null,
      "metadata": {
        "colab": {
          "base_uri": "https://localhost:8080/"
        },
        "id": "wflaS-sfbX57",
        "outputId": "7a767275-5676-455b-9013-80c5e0a1a1c6"
      },
      "outputs": [
        {
          "output_type": "execute_result",
          "data": {
            "text/plain": [
              "array([0., 0., 0., 0., 0., 0., 0., 0., 0., 0., 0., 0., 0., 0., 0., 0., 0.,\n",
              "       0., 0., 0., 0., 0., 0., 0., 0., 0., 0., 0., 0., 0., 0., 0., 0., 0.,\n",
              "       0., 0., 0., 0., 0., 0., 0., 0., 0., 0., 0., 0., 0., 0., 0., 0., 0.,\n",
              "       0., 0., 0., 0., 0., 0., 0., 0., 0., 0., 0., 0., 0., 0., 0., 0., 0.,\n",
              "       0., 0., 0., 0., 0., 0., 0., 0., 0., 0., 0., 0., 0., 0., 0., 0., 0.,\n",
              "       0., 0., 0., 0., 0., 0., 0., 0., 0., 0., 0., 0., 0., 0., 0., 0., 0.,\n",
              "       0., 0., 0., 0., 0., 0., 0., 0., 0., 0., 0., 0., 0., 0., 0., 0., 0.,\n",
              "       0., 0., 0., 0., 0., 0., 0., 0., 0., 0., 0., 0., 0., 0., 0., 0., 0.,\n",
              "       0., 0., 0., 0., 0., 0., 0., 0., 0., 0., 0., 0., 0., 0., 0., 0., 0.,\n",
              "       0., 0., 0., 0., 0., 0., 0., 0., 0., 0., 0., 0., 0., 0., 0., 0., 1.,\n",
              "       0., 0., 0., 0., 0., 0., 0., 0., 0., 0., 0., 0., 0., 0., 0., 0., 0.,\n",
              "       0., 0., 0., 0., 0., 0., 0., 0., 0.], dtype=float32)"
            ]
          },
          "metadata": {},
          "execution_count": 44
        },
        {
          "output_type": "stream",
          "name": "stdout",
          "text": [
            "\n",
            "\n",
            "Inverse Label [170]\n",
            "Original 170\n"
          ]
        },
        {
          "output_type": "execute_result",
          "data": {
            "text/plain": [
              "array([0., 0., 0., 0., 0., 0., 0., 0., 0., 0., 0., 0., 0., 0., 0., 0., 0.,\n",
              "       0., 0., 0., 0., 0., 0., 0., 0., 0., 0., 0., 0., 0., 0., 0., 0., 0.,\n",
              "       0., 0., 0., 0., 0., 0., 0., 0., 0., 0., 0., 0., 0., 0., 0., 0., 0.,\n",
              "       0., 0., 0., 0., 0., 0., 0., 0., 0., 0., 0., 0., 0., 0., 0., 0., 0.,\n",
              "       0., 0., 0., 0., 0., 0., 0., 0., 0., 0., 0., 0., 0., 0., 0., 0., 0.,\n",
              "       0., 0., 0., 0., 0., 0., 0., 0., 0., 0., 0., 0., 0., 0., 0., 0., 0.,\n",
              "       0., 0., 0., 0., 0., 0., 0., 0., 0., 0., 1., 0., 0., 0., 0., 0., 0.,\n",
              "       0., 0., 0., 0., 0., 0., 0., 0., 0., 0., 0., 0., 0., 0., 0., 0., 0.,\n",
              "       0., 0., 0., 0., 0., 0., 0., 0., 0., 0., 0., 0., 0., 0., 0., 0., 0.,\n",
              "       0., 0., 0., 0., 0., 0., 0., 0., 0., 0., 0., 0., 0., 0., 0., 0., 0.,\n",
              "       0., 0., 0., 0., 0., 0., 0., 0., 0., 0., 0., 0., 0., 0., 0., 0., 0.,\n",
              "       0., 0., 0., 0., 0., 0., 0., 0., 0.], dtype=float32)"
            ]
          },
          "metadata": {},
          "execution_count": 44
        },
        {
          "output_type": "stream",
          "name": "stdout",
          "text": [
            "\n",
            "\n",
            "Inverse Label [113]\n",
            "Original 113\n"
          ]
        }
      ],
      "source": [
        "# Cross verify transofmration have been done correctly \n",
        "#On Train\n",
        "Y_Train_MobileNet_ClassInput[0]\n",
        "Originial=np.argmax(Y_Train_MobileNet_ClassInput[0])\n",
        "print(\"\\n\")\n",
        "print(\"Inverse Label\",encoder.inverse_transform([Originial]))\n",
        "print(\"Original\",Y_Train[0][4])\n",
        "\n",
        "#On Test\n",
        "Y_Test_MobileNet_ClassInput[0]\n",
        "Originial=np.argmax(Y_Test_MobileNet_ClassInput[0])\n",
        "print(\"\\n\")\n",
        "print(\"Inverse Label\",(encoder.inverse_transform([Originial])))\n",
        "print(\"Original\",Y_Test[0][4])"
      ]
    },
    {
      "cell_type": "code",
      "execution_count": null,
      "metadata": {
        "id": "PUrjBS0KeZPz"
      },
      "outputs": [],
      "source": [
        "### Now lets prepare labels for Regression Head"
      ]
    },
    {
      "cell_type": "code",
      "execution_count": null,
      "metadata": {
        "id": "4ZRRr7ipkgGv"
      },
      "outputs": [],
      "source": [
        "# Lets remove labels of class\n",
        "Y_Train_MobileNet_BoxInput=np.delete(Y_Train,obj=[4],axis=1)"
      ]
    },
    {
      "cell_type": "code",
      "execution_count": null,
      "metadata": {
        "id": "ryXgStJ-kgGv"
      },
      "outputs": [],
      "source": [
        "# Lets remove label of class\n",
        "Y_Test_MobileNet_BoxInput=np.delete(Y_Test,obj=[4],axis=1)"
      ]
    },
    {
      "cell_type": "code",
      "execution_count": null,
      "metadata": {
        "colab": {
          "base_uri": "https://localhost:8080/"
        },
        "id": "OUrZqa_VelXw",
        "outputId": "a64fc342-b635-41ad-c791-0e9e3af1e01c"
      },
      "outputs": [
        {
          "output_type": "execute_result",
          "data": {
            "text/plain": [
              "(1303, 4)"
            ]
          },
          "metadata": {},
          "execution_count": 48
        },
        {
          "output_type": "execute_result",
          "data": {
            "text/plain": [
              "(326, 4)"
            ]
          },
          "metadata": {},
          "execution_count": 48
        }
      ],
      "source": [
        "Y_Train_MobileNet_BoxInput.shape\n",
        "Y_Test_MobileNet_BoxInput.shape"
      ]
    },
    {
      "cell_type": "code",
      "execution_count": null,
      "metadata": {
        "colab": {
          "base_uri": "https://localhost:8080/",
          "height": 53
        },
        "id": "4ZOBcNcqkgGw",
        "outputId": "34d0c939-7690-468c-ed9c-391c6a13b906"
      },
      "outputs": [
        {
          "output_type": "execute_result",
          "data": {
            "text/plain": [
              "(1303, 300, 300, 3)"
            ]
          },
          "metadata": {},
          "execution_count": 49
        },
        {
          "output_type": "execute_result",
          "data": {
            "text/plain": [
              "'for i, f in enumerate(X_Train):\\n  #Our classification n/w requires 300*300 images\\n  X_Train_EffNet[i,:,:,:] = cv2.resize(X_Train[i], dsize=(300, 300), interpolation=cv2.INTER_CUBIC)'"
            ],
            "application/vnd.google.colaboratory.intrinsic+json": {
              "type": "string"
            }
          },
          "metadata": {},
          "execution_count": 49
        }
      ],
      "source": [
        "# Lets prepare X data for Mobile net(will remain same for both reg and class head)\n",
        "from PIL import Image\n",
        "from keras.applications.mobilenet import preprocess_input\n",
        "import cv2\n",
        "\n",
        "X_Train_MobileNet=X_Train.copy()\n",
        "#X_Train_EffNet=np.zeros((X_Train.shape[0],300,300,3))\n",
        "\n",
        "X_Train.shape\n",
        "\n",
        "'''for i, f in enumerate(X_Train):\n",
        "  #Our classification n/w requires 300*300 images\n",
        "  X_Train_EffNet[i,:,:,:] = cv2.resize(X_Train[i], dsize=(300, 300), interpolation=cv2.INTER_CUBIC)'''\n",
        "\n",
        "\n",
        "for i, f in enumerate(X_Train):\n",
        "  X_Train_MobileNet[i] = preprocess_input(X_Train_MobileNet[i]) # Convert to float32 array"
      ]
    },
    {
      "cell_type": "code",
      "execution_count": null,
      "metadata": {
        "colab": {
          "base_uri": "https://localhost:8080/"
        },
        "id": "rdM4z0pje2Ce",
        "outputId": "866a6557-adad-494e-8ee8-e1d52d6eb969"
      },
      "outputs": [
        {
          "output_type": "execute_result",
          "data": {
            "text/plain": [
              "(1303, 300, 300, 3)"
            ]
          },
          "metadata": {},
          "execution_count": 50
        }
      ],
      "source": [
        "#X_Train_EffNet.shape\n",
        "X_Train_MobileNet.shape"
      ]
    },
    {
      "cell_type": "code",
      "execution_count": null,
      "metadata": {
        "colab": {
          "base_uri": "https://localhost:8080/",
          "height": 53
        },
        "id": "pTQLibJjkgGx",
        "outputId": "85539340-a59b-4758-b877-82fa8ddeb200"
      },
      "outputs": [
        {
          "output_type": "execute_result",
          "data": {
            "text/plain": [
              "'for i, f in enumerate(X_Test):\\n  #Our classification n/w requires 300*300 images\\n  X_Test_EffNet[i,:,:,:] = cv2.resize(X_Test[i], dsize=(300, 300), interpolation=cv2.INTER_CUBIC)'"
            ],
            "application/vnd.google.colaboratory.intrinsic+json": {
              "type": "string"
            }
          },
          "metadata": {},
          "execution_count": 51
        }
      ],
      "source": [
        "X_Test_MobileNet=X_Test.copy()\n",
        "#X_Test_EffNet=np.zeros((X_Test.shape[0],300,300,3))\n",
        "\n",
        "'''for i, f in enumerate(X_Test):\n",
        "  #Our classification n/w requires 300*300 images\n",
        "  X_Test_EffNet[i,:,:,:] = cv2.resize(X_Test[i], dsize=(300, 300), interpolation=cv2.INTER_CUBIC)'''\n",
        "\n",
        "for i, f in enumerate(X_Test):\n",
        "  X_Test_MobileNet[i] = preprocess_input(np.array(X_Test_MobileNet[i], dtype=np.float32)) # Convert to float32 array"
      ]
    },
    {
      "cell_type": "code",
      "execution_count": null,
      "metadata": {
        "colab": {
          "base_uri": "https://localhost:8080/"
        },
        "id": "jW5KhPyHpdBX",
        "outputId": "0e528011-f29e-4b1e-d481-b82c87d13406"
      },
      "outputs": [
        {
          "output_type": "execute_result",
          "data": {
            "text/plain": [
              "(326, 300, 300, 3)"
            ]
          },
          "metadata": {},
          "execution_count": 52
        }
      ],
      "source": [
        "#X_Test_EffNet.shape\n",
        "X_Test_MobileNet.shape"
      ]
    },
    {
      "cell_type": "code",
      "execution_count": null,
      "metadata": {
        "id": "MxqHH6t_pjUY"
      },
      "outputs": [],
      "source": [
        "#np.save(\"/content/drive/MyDrive/Capstone/Pickled_Info/X_Train_EffNet.npy\",X_Train_EffNet)\n",
        "np.save(\"/content/drive/MyDrive/Capstone/Pickled_Info/X_Train_MobileNet.npy\",X_Train_MobileNet)\n",
        "#np.save(\"/content/drive/MyDrive/Capstone/Pickled_Info/X_Test_EffNet.npy\",X_Test_EffNet)\n",
        "np.save(\"/content/drive/MyDrive/Capstone/Pickled_Info/X_Test_MobileNet.npy\",X_Test_MobileNet)\n",
        "\n",
        "np.save(\"/content/drive/MyDrive/Capstone/Pickled_Info/Y_Train_MobileNet_BoxInput.npy\",Y_Train_MobileNet_BoxInput)\n",
        "\n",
        "np.save(\"/content/drive/MyDrive/Capstone/Pickled_Info/Y_Train_MobileNet_ClassInput.npy\",Y_Train_MobileNet_ClassInput)\n",
        "\n",
        "np.save(\"/content/drive/MyDrive/Capstone/Pickled_Info/Y_Test_MobileNet_BoxInput.npy\",Y_Test_MobileNet_BoxInput)\n",
        "\n",
        "np.save(\"/content/drive/MyDrive/Capstone/Pickled_Info/Y_Test_MobileNet_ClassInput.npy\",Y_Test_MobileNet_ClassInput)\n"
      ]
    },
    {
      "cell_type": "code",
      "execution_count": null,
      "metadata": {
        "id": "7g1SDXi0pyK5"
      },
      "outputs": [],
      "source": [
        "#STOP"
      ]
    },
    {
      "cell_type": "markdown",
      "metadata": {
        "id": "zID3K-5aptH7"
      },
      "source": [
        "## 5.0 Build Model"
      ]
    },
    {
      "cell_type": "code",
      "execution_count": null,
      "metadata": {
        "id": "zoDwxaK-w4W-"
      },
      "outputs": [],
      "source": [
        "#X_Train_EffNet= np.load(\"/content/drive/MyDrive/Capstone/Pickled_Info/X_Train_EffNet.npy\")\n",
        "\n",
        "#X_Train_MobileNet=np.load(\"/content/drive/MyDrive/Capstone/Pickled_Info/X_Train_MobileNet.npy\")\n",
        "\n",
        "#X_Test_EffNet=np.load(\"/content/drive/MyDrive/Capstone/Pickled_Info/X_Test_EffNet.npy\")\n",
        "\n",
        "X_Test_MobileNet=np.load(\"/content/drive/MyDrive/Capstone/Pickled_Info/X_Test_MobileNet.npy\")\n",
        "\n",
        "#Y_Train_MobileNet_BoxInput=np.load(\"/content/drive/MyDrive/Capstone/Pickled_Info/Y_Train_MobileNet_BoxInput.npy\")\n",
        "\n",
        "#Y_Train_MobileNet_ClassInput=np.load(\"/content/drive/MyDrive/Capstone/Pickled_Info/Y_Train_MobileNet_ClassInput.npy\")\n",
        "\n",
        "Y_Test_MobileNet_BoxInput=np.load(\"/content/drive/MyDrive/Capstone/Pickled_Info/Y_Test_MobileNet_BoxInput.npy\")\n",
        "\n",
        "Y_Test_MobileNet_ClassInput=np.load(\"/content/drive/MyDrive/Capstone/Pickled_Info/Y_Test_MobileNet_ClassInput.npy\")\n"
      ]
    },
    {
      "cell_type": "code",
      "execution_count": null,
      "metadata": {
        "id": "0A3m-RZ9pjle"
      },
      "outputs": [],
      "source": [
        "X_Batch=np.load(\"/content/drive/MyDrive/Capstone/Pickled_Info/X_Batcht.npy\")\n",
        "Y_Batch=np.load(\"/content/drive/MyDrive/Capstone/Pickled_Info/Y_Batch.npy\")"
      ]
    },
    {
      "cell_type": "code",
      "source": [
        "import pickle\n",
        "\n",
        "# open a file, where you stored the pickled data\n",
        "file = open('/content/drive/MyDrive/Capstone/Pickled_Info/Classindices.pkl', 'rb')\n",
        "\n",
        "# dump information to that file\n",
        "classDict = pickle.load(file)"
      ],
      "metadata": {
        "id": "hELFDXOuVCsD"
      },
      "execution_count": null,
      "outputs": []
    },
    {
      "cell_type": "code",
      "execution_count": null,
      "metadata": {
        "id": "XrKkbpTl1qzR"
      },
      "outputs": [],
      "source": [
        "# Create reg model and load its weights\n",
        "# Lets build the model\n",
        "\n",
        "from keras.applications.mobilenet import MobileNet\n",
        "from keras.models import Model,load_model\n",
        "from keras.layers import Conv2D, Reshape,Flatten,Dense,Dropout,GlobalAveragePooling2D,BatchNormalization,Input\n",
        "from keras.callbacks import EarlyStopping\n",
        "from keras.callbacks import ModelCheckpoint\n",
        "\n",
        "ALPHA = 1.0\n",
        "\n",
        "def create_reg_od_model(trainable=True):\n",
        "    regODModel = MobileNet(input_shape=(images_height, images_width, 3), include_top=False, alpha=ALPHA) # Load pre-trained mobilenet\n",
        "\n",
        "    # to freeze layers, except the new top layer, of course, which will be added below\n",
        "    for layer in regODModel.layers:\n",
        "        layer.trainable = trainable\n",
        "    \n",
        "    # Add new top layer for Regression Head\n",
        "    regODModelOP = regODModel.layers[-1].output\n",
        "    regODModelOP = Flatten()(regODModelOP)\n",
        "    regODModelOP = Dense(units=4,name=\"box_output\")(regODModelOP) # These are the 4 predicted coordinates of one BBox\n",
        "    #boxPredicModel = Dense(units=4)(boxPredicModel) # These are the 4 predicted coordinates of one BBox \n",
        "    return Model(inputs=regODModel.input, outputs=regODModelOP)"
      ]
    },
    {
      "cell_type": "code",
      "execution_count": null,
      "metadata": {
        "id": "5npUFApyO1_A"
      },
      "outputs": [],
      "source": [
        "\n",
        "#from tensorflow.keras import layers\n",
        "\n",
        "def create_classifiction_model(num_classes=196,IMG_SIZE=300):\n",
        "  inputs = Input(shape=(IMG_SIZE, IMG_SIZE, 3))\n",
        "  model = keras.applications.efficientnet.EfficientNetB3(include_top=False, input_tensor=inputs, weights=\"imagenet\")\n",
        "\n",
        "  # Freeze the pretrained weights\n",
        "  model.trainable = False\n",
        "\n",
        "  #for layer in model.layers[-20:]:\n",
        "   # if not isinstance(layer, BatchNormalization):\n",
        "    #  layer.trainable = True\n",
        "  \n",
        "  \n",
        "  # Rebuild top\n",
        "  x = GlobalAveragePooling2D(name=\"avg_pool\")(model.output)\n",
        "  x = BatchNormalization()(x)\n",
        "\n",
        "  top_dropout_rate = 0.5\n",
        "  x = Dropout(top_dropout_rate, name=\"top_dropout\")(x)\n",
        "  outputs = Dense(num_classes, activation=\"softmax\", name=\"class_output\")(x)\n",
        "\n",
        "  return Model(inputs, outputs)"
      ]
    },
    {
      "cell_type": "code",
      "execution_count": null,
      "metadata": {
        "id": "W19mcsRNarhN"
      },
      "outputs": [],
      "source": [
        "def create_final_baseline_model(trainable=True):\n",
        "\n",
        "    #inputToRegModel =Input((128,128,3))\n",
        "    # Load weights from saved reg model\n",
        "    regODModel=create_reg_od_model(False)\n",
        "    regODModel.load_weights('/content/drive/MyDrive/Capstone/Pickled_Info/RegODModel_bestWieghts_300.h5')\n",
        "    classModel=create_classifiction_model()\n",
        "    classModel.load_weights('/content/drive/MyDrive/Capstone/Pickled_Info/classification_best_weights.h5')\n",
        "\n",
        "\n",
        "    #regODModel.compile(loss=\"mean_squared_error\", optimizer=\"adam\", metrics=[IoU]) # Regression loss is MSE\n",
        "    return Model(inputs=[regODModel.input,classModel.input], outputs=[regODModel.output,classModel.output])\n",
        "    #return regODModel\n",
        "\n"
      ]
    },
    {
      "cell_type": "code",
      "execution_count": null,
      "metadata": {
        "id": "YHc6bEWTkgGz"
      },
      "outputs": [],
      "source": [
        "# Define evaluation metric\n",
        "\n",
        "def IOU(y_true, y_pred):\n",
        "    intersections = 0\n",
        "    unions = 0\n",
        "    gt = y_true\n",
        "    pred = y_pred\n",
        "    # Compute interection of predicted (pred) and ground truth (gt) bounding boxes\n",
        "    diff_width = np.minimum(gt[:,0] + gt[:,2], pred[:,0] + pred[:,2]) - np.maximum(gt[:,0], pred[:,0])\n",
        "    diff_height = np.minimum(gt[:,1] + gt[:,3], pred[:,1] + pred[:,3]) - np.maximum(gt[:,1], pred[:,1])\n",
        "    intersection = diff_width * diff_height\n",
        "\n",
        "    # Compute union\n",
        "    area_gt = gt[:,2] * gt[:,3]\n",
        "    area_pred = pred[:,2] * pred[:,3]\n",
        "    union = area_gt + area_pred - intersection\n",
        "    # rk - again to repeat we know why he has minues , taken 2 times \n",
        "\n",
        "    # Compute intersection and union over multiple boxes\n",
        "    for j, _ in enumerate(union):\n",
        "      if union[j] > 0 and intersection[j] > 0 and union[j] >= intersection[j]:\n",
        "        intersections += intersection[j]\n",
        "        unions += union[j]\n",
        "\n",
        "    # Compute IOU. Use epsilon to prevent division by zero\n",
        "    iou = np.round(intersections / (unions + tensorflow.keras.backend.epsilon()), 4)# rounded to 4 \n",
        "    # This must match the type used in py_func\n",
        "    iou = iou.astype(np.float32)\n",
        "    return iou\n",
        "    # this is one number for the whole model"
      ]
    },
    {
      "cell_type": "code",
      "execution_count": null,
      "metadata": {
        "id": "bLY1hQxWkgGz"
      },
      "outputs": [],
      "source": [
        "def IoU(y_true, y_pred):\n",
        "    iou = tensorflow.py_function(IOU, [y_true, y_pred], Tout=tensorflow.float32)\n",
        "    return iou\n",
        "# This is a wrapper funcction"
      ]
    },
    {
      "cell_type": "code",
      "execution_count": null,
      "metadata": {
        "colab": {
          "base_uri": "https://localhost:8080/"
        },
        "id": "IxFJDPt8KTAc",
        "outputId": "e0fe99bb-2e26-43a7-b749-8b54b54070cb"
      },
      "outputs": [
        {
          "output_type": "stream",
          "name": "stdout",
          "text": [
            "WARNING:tensorflow:`input_shape` is undefined or non-square, or `rows` is not in [128, 160, 192, 224]. Weights for input shape (224, 224) will be loaded as the default.\n",
            "Downloading data from https://storage.googleapis.com/tensorflow/keras-applications/mobilenet/mobilenet_1_0_224_tf_no_top.h5\n",
            "17227776/17225924 [==============================] - 0s 0us/step\n",
            "17235968/17225924 [==============================] - 0s 0us/step\n",
            "Downloading data from https://storage.googleapis.com/keras-applications/efficientnetb3_notop.h5\n",
            "43941888/43941136 [==============================] - 0s 0us/step\n",
            "43950080/43941136 [==============================] - 0s 0us/step\n",
            "Model: \"model_2\"\n",
            "__________________________________________________________________________________________________\n",
            " Layer (type)                   Output Shape         Param #     Connected to                     \n",
            "==================================================================================================\n",
            " input_2 (InputLayer)           [(None, 300, 300, 3  0           []                               \n",
            "                                )]                                                                \n",
            "                                                                                                  \n",
            " rescaling (Rescaling)          (None, 300, 300, 3)  0           ['input_2[0][0]']                \n",
            "                                                                                                  \n",
            " normalization (Normalization)  (None, 300, 300, 3)  7           ['rescaling[0][0]']              \n",
            "                                                                                                  \n",
            " stem_conv_pad (ZeroPadding2D)  (None, 301, 301, 3)  0           ['normalization[0][0]']          \n",
            "                                                                                                  \n",
            " stem_conv (Conv2D)             (None, 150, 150, 40  1080        ['stem_conv_pad[0][0]']          \n",
            "                                )                                                                 \n",
            "                                                                                                  \n",
            " stem_bn (BatchNormalization)   (None, 150, 150, 40  160         ['stem_conv[0][0]']              \n",
            "                                )                                                                 \n",
            "                                                                                                  \n",
            " stem_activation (Activation)   (None, 150, 150, 40  0           ['stem_bn[0][0]']                \n",
            "                                )                                                                 \n",
            "                                                                                                  \n",
            " block1a_dwconv (DepthwiseConv2  (None, 150, 150, 40  360        ['stem_activation[0][0]']        \n",
            " D)                             )                                                                 \n",
            "                                                                                                  \n",
            " block1a_bn (BatchNormalization  (None, 150, 150, 40  160        ['block1a_dwconv[0][0]']         \n",
            " )                              )                                                                 \n",
            "                                                                                                  \n",
            " block1a_activation (Activation  (None, 150, 150, 40  0          ['block1a_bn[0][0]']             \n",
            " )                              )                                                                 \n",
            "                                                                                                  \n",
            " block1a_se_squeeze (GlobalAver  (None, 40)          0           ['block1a_activation[0][0]']     \n",
            " agePooling2D)                                                                                    \n",
            "                                                                                                  \n",
            " block1a_se_reshape (Reshape)   (None, 1, 1, 40)     0           ['block1a_se_squeeze[0][0]']     \n",
            "                                                                                                  \n",
            " block1a_se_reduce (Conv2D)     (None, 1, 1, 10)     410         ['block1a_se_reshape[0][0]']     \n",
            "                                                                                                  \n",
            " block1a_se_expand (Conv2D)     (None, 1, 1, 40)     440         ['block1a_se_reduce[0][0]']      \n",
            "                                                                                                  \n",
            " block1a_se_excite (Multiply)   (None, 150, 150, 40  0           ['block1a_activation[0][0]',     \n",
            "                                )                                 'block1a_se_expand[0][0]']      \n",
            "                                                                                                  \n",
            " block1a_project_conv (Conv2D)  (None, 150, 150, 24  960         ['block1a_se_excite[0][0]']      \n",
            "                                )                                                                 \n",
            "                                                                                                  \n",
            " block1a_project_bn (BatchNorma  (None, 150, 150, 24  96         ['block1a_project_conv[0][0]']   \n",
            " lization)                      )                                                                 \n",
            "                                                                                                  \n",
            " block1b_dwconv (DepthwiseConv2  (None, 150, 150, 24  216        ['block1a_project_bn[0][0]']     \n",
            " D)                             )                                                                 \n",
            "                                                                                                  \n",
            " block1b_bn (BatchNormalization  (None, 150, 150, 24  96         ['block1b_dwconv[0][0]']         \n",
            " )                              )                                                                 \n",
            "                                                                                                  \n",
            " block1b_activation (Activation  (None, 150, 150, 24  0          ['block1b_bn[0][0]']             \n",
            " )                              )                                                                 \n",
            "                                                                                                  \n",
            " block1b_se_squeeze (GlobalAver  (None, 24)          0           ['block1b_activation[0][0]']     \n",
            " agePooling2D)                                                                                    \n",
            "                                                                                                  \n",
            " block1b_se_reshape (Reshape)   (None, 1, 1, 24)     0           ['block1b_se_squeeze[0][0]']     \n",
            "                                                                                                  \n",
            " block1b_se_reduce (Conv2D)     (None, 1, 1, 6)      150         ['block1b_se_reshape[0][0]']     \n",
            "                                                                                                  \n",
            " block1b_se_expand (Conv2D)     (None, 1, 1, 24)     168         ['block1b_se_reduce[0][0]']      \n",
            "                                                                                                  \n",
            " block1b_se_excite (Multiply)   (None, 150, 150, 24  0           ['block1b_activation[0][0]',     \n",
            "                                )                                 'block1b_se_expand[0][0]']      \n",
            "                                                                                                  \n",
            " block1b_project_conv (Conv2D)  (None, 150, 150, 24  576         ['block1b_se_excite[0][0]']      \n",
            "                                )                                                                 \n",
            "                                                                                                  \n",
            " block1b_project_bn (BatchNorma  (None, 150, 150, 24  96         ['block1b_project_conv[0][0]']   \n",
            " lization)                      )                                                                 \n",
            "                                                                                                  \n",
            " block1b_drop (Dropout)         (None, 150, 150, 24  0           ['block1b_project_bn[0][0]']     \n",
            "                                )                                                                 \n",
            "                                                                                                  \n",
            " block1b_add (Add)              (None, 150, 150, 24  0           ['block1b_drop[0][0]',           \n",
            "                                )                                 'block1a_project_bn[0][0]']     \n",
            "                                                                                                  \n",
            " block2a_expand_conv (Conv2D)   (None, 150, 150, 14  3456        ['block1b_add[0][0]']            \n",
            "                                4)                                                                \n",
            "                                                                                                  \n",
            " block2a_expand_bn (BatchNormal  (None, 150, 150, 14  576        ['block2a_expand_conv[0][0]']    \n",
            " ization)                       4)                                                                \n",
            "                                                                                                  \n",
            " block2a_expand_activation (Act  (None, 150, 150, 14  0          ['block2a_expand_bn[0][0]']      \n",
            " ivation)                       4)                                                                \n",
            "                                                                                                  \n",
            " block2a_dwconv_pad (ZeroPaddin  (None, 151, 151, 14  0          ['block2a_expand_activation[0][0]\n",
            " g2D)                           4)                               ']                               \n",
            "                                                                                                  \n",
            " block2a_dwconv (DepthwiseConv2  (None, 75, 75, 144)  1296       ['block2a_dwconv_pad[0][0]']     \n",
            " D)                                                                                               \n",
            "                                                                                                  \n",
            " block2a_bn (BatchNormalization  (None, 75, 75, 144)  576        ['block2a_dwconv[0][0]']         \n",
            " )                                                                                                \n",
            "                                                                                                  \n",
            " block2a_activation (Activation  (None, 75, 75, 144)  0          ['block2a_bn[0][0]']             \n",
            " )                                                                                                \n",
            "                                                                                                  \n",
            " block2a_se_squeeze (GlobalAver  (None, 144)         0           ['block2a_activation[0][0]']     \n",
            " agePooling2D)                                                                                    \n",
            "                                                                                                  \n",
            " block2a_se_reshape (Reshape)   (None, 1, 1, 144)    0           ['block2a_se_squeeze[0][0]']     \n",
            "                                                                                                  \n",
            " block2a_se_reduce (Conv2D)     (None, 1, 1, 6)      870         ['block2a_se_reshape[0][0]']     \n",
            "                                                                                                  \n",
            " block2a_se_expand (Conv2D)     (None, 1, 1, 144)    1008        ['block2a_se_reduce[0][0]']      \n",
            "                                                                                                  \n",
            " block2a_se_excite (Multiply)   (None, 75, 75, 144)  0           ['block2a_activation[0][0]',     \n",
            "                                                                  'block2a_se_expand[0][0]']      \n",
            "                                                                                                  \n",
            " block2a_project_conv (Conv2D)  (None, 75, 75, 32)   4608        ['block2a_se_excite[0][0]']      \n",
            "                                                                                                  \n",
            " block2a_project_bn (BatchNorma  (None, 75, 75, 32)  128         ['block2a_project_conv[0][0]']   \n",
            " lization)                                                                                        \n",
            "                                                                                                  \n",
            " block2b_expand_conv (Conv2D)   (None, 75, 75, 192)  6144        ['block2a_project_bn[0][0]']     \n",
            "                                                                                                  \n",
            " block2b_expand_bn (BatchNormal  (None, 75, 75, 192)  768        ['block2b_expand_conv[0][0]']    \n",
            " ization)                                                                                         \n",
            "                                                                                                  \n",
            " block2b_expand_activation (Act  (None, 75, 75, 192)  0          ['block2b_expand_bn[0][0]']      \n",
            " ivation)                                                                                         \n",
            "                                                                                                  \n",
            " block2b_dwconv (DepthwiseConv2  (None, 75, 75, 192)  1728       ['block2b_expand_activation[0][0]\n",
            " D)                                                              ']                               \n",
            "                                                                                                  \n",
            " block2b_bn (BatchNormalization  (None, 75, 75, 192)  768        ['block2b_dwconv[0][0]']         \n",
            " )                                                                                                \n",
            "                                                                                                  \n",
            " block2b_activation (Activation  (None, 75, 75, 192)  0          ['block2b_bn[0][0]']             \n",
            " )                                                                                                \n",
            "                                                                                                  \n",
            " block2b_se_squeeze (GlobalAver  (None, 192)         0           ['block2b_activation[0][0]']     \n",
            " agePooling2D)                                                                                    \n",
            "                                                                                                  \n",
            " block2b_se_reshape (Reshape)   (None, 1, 1, 192)    0           ['block2b_se_squeeze[0][0]']     \n",
            "                                                                                                  \n",
            " block2b_se_reduce (Conv2D)     (None, 1, 1, 8)      1544        ['block2b_se_reshape[0][0]']     \n",
            "                                                                                                  \n",
            " block2b_se_expand (Conv2D)     (None, 1, 1, 192)    1728        ['block2b_se_reduce[0][0]']      \n",
            "                                                                                                  \n",
            " block2b_se_excite (Multiply)   (None, 75, 75, 192)  0           ['block2b_activation[0][0]',     \n",
            "                                                                  'block2b_se_expand[0][0]']      \n",
            "                                                                                                  \n",
            " block2b_project_conv (Conv2D)  (None, 75, 75, 32)   6144        ['block2b_se_excite[0][0]']      \n",
            "                                                                                                  \n",
            " block2b_project_bn (BatchNorma  (None, 75, 75, 32)  128         ['block2b_project_conv[0][0]']   \n",
            " lization)                                                                                        \n",
            "                                                                                                  \n",
            " block2b_drop (Dropout)         (None, 75, 75, 32)   0           ['block2b_project_bn[0][0]']     \n",
            "                                                                                                  \n",
            " block2b_add (Add)              (None, 75, 75, 32)   0           ['block2b_drop[0][0]',           \n",
            "                                                                  'block2a_project_bn[0][0]']     \n",
            "                                                                                                  \n",
            " block2c_expand_conv (Conv2D)   (None, 75, 75, 192)  6144        ['block2b_add[0][0]']            \n",
            "                                                                                                  \n",
            " block2c_expand_bn (BatchNormal  (None, 75, 75, 192)  768        ['block2c_expand_conv[0][0]']    \n",
            " ization)                                                                                         \n",
            "                                                                                                  \n",
            " block2c_expand_activation (Act  (None, 75, 75, 192)  0          ['block2c_expand_bn[0][0]']      \n",
            " ivation)                                                                                         \n",
            "                                                                                                  \n",
            " block2c_dwconv (DepthwiseConv2  (None, 75, 75, 192)  1728       ['block2c_expand_activation[0][0]\n",
            " D)                                                              ']                               \n",
            "                                                                                                  \n",
            " block2c_bn (BatchNormalization  (None, 75, 75, 192)  768        ['block2c_dwconv[0][0]']         \n",
            " )                                                                                                \n",
            "                                                                                                  \n",
            " block2c_activation (Activation  (None, 75, 75, 192)  0          ['block2c_bn[0][0]']             \n",
            " )                                                                                                \n",
            "                                                                                                  \n",
            " block2c_se_squeeze (GlobalAver  (None, 192)         0           ['block2c_activation[0][0]']     \n",
            " agePooling2D)                                                                                    \n",
            "                                                                                                  \n",
            " block2c_se_reshape (Reshape)   (None, 1, 1, 192)    0           ['block2c_se_squeeze[0][0]']     \n",
            "                                                                                                  \n",
            " block2c_se_reduce (Conv2D)     (None, 1, 1, 8)      1544        ['block2c_se_reshape[0][0]']     \n",
            "                                                                                                  \n",
            " block2c_se_expand (Conv2D)     (None, 1, 1, 192)    1728        ['block2c_se_reduce[0][0]']      \n",
            "                                                                                                  \n",
            " block2c_se_excite (Multiply)   (None, 75, 75, 192)  0           ['block2c_activation[0][0]',     \n",
            "                                                                  'block2c_se_expand[0][0]']      \n",
            "                                                                                                  \n",
            " block2c_project_conv (Conv2D)  (None, 75, 75, 32)   6144        ['block2c_se_excite[0][0]']      \n",
            "                                                                                                  \n",
            " block2c_project_bn (BatchNorma  (None, 75, 75, 32)  128         ['block2c_project_conv[0][0]']   \n",
            " lization)                                                                                        \n",
            "                                                                                                  \n",
            " block2c_drop (Dropout)         (None, 75, 75, 32)   0           ['block2c_project_bn[0][0]']     \n",
            "                                                                                                  \n",
            " block2c_add (Add)              (None, 75, 75, 32)   0           ['block2c_drop[0][0]',           \n",
            "                                                                  'block2b_add[0][0]']            \n",
            "                                                                                                  \n",
            " block3a_expand_conv (Conv2D)   (None, 75, 75, 192)  6144        ['block2c_add[0][0]']            \n",
            "                                                                                                  \n",
            " block3a_expand_bn (BatchNormal  (None, 75, 75, 192)  768        ['block3a_expand_conv[0][0]']    \n",
            " ization)                                                                                         \n",
            "                                                                                                  \n",
            " block3a_expand_activation (Act  (None, 75, 75, 192)  0          ['block3a_expand_bn[0][0]']      \n",
            " ivation)                                                                                         \n",
            "                                                                                                  \n",
            " block3a_dwconv_pad (ZeroPaddin  (None, 79, 79, 192)  0          ['block3a_expand_activation[0][0]\n",
            " g2D)                                                            ']                               \n",
            "                                                                                                  \n",
            " block3a_dwconv (DepthwiseConv2  (None, 38, 38, 192)  4800       ['block3a_dwconv_pad[0][0]']     \n",
            " D)                                                                                               \n",
            "                                                                                                  \n",
            " block3a_bn (BatchNormalization  (None, 38, 38, 192)  768        ['block3a_dwconv[0][0]']         \n",
            " )                                                                                                \n",
            "                                                                                                  \n",
            " block3a_activation (Activation  (None, 38, 38, 192)  0          ['block3a_bn[0][0]']             \n",
            " )                                                                                                \n",
            "                                                                                                  \n",
            " block3a_se_squeeze (GlobalAver  (None, 192)         0           ['block3a_activation[0][0]']     \n",
            " agePooling2D)                                                                                    \n",
            "                                                                                                  \n",
            " block3a_se_reshape (Reshape)   (None, 1, 1, 192)    0           ['block3a_se_squeeze[0][0]']     \n",
            "                                                                                                  \n",
            " block3a_se_reduce (Conv2D)     (None, 1, 1, 8)      1544        ['block3a_se_reshape[0][0]']     \n",
            "                                                                                                  \n",
            " block3a_se_expand (Conv2D)     (None, 1, 1, 192)    1728        ['block3a_se_reduce[0][0]']      \n",
            "                                                                                                  \n",
            " block3a_se_excite (Multiply)   (None, 38, 38, 192)  0           ['block3a_activation[0][0]',     \n",
            "                                                                  'block3a_se_expand[0][0]']      \n",
            "                                                                                                  \n",
            " block3a_project_conv (Conv2D)  (None, 38, 38, 48)   9216        ['block3a_se_excite[0][0]']      \n",
            "                                                                                                  \n",
            " block3a_project_bn (BatchNorma  (None, 38, 38, 48)  192         ['block3a_project_conv[0][0]']   \n",
            " lization)                                                                                        \n",
            "                                                                                                  \n",
            " block3b_expand_conv (Conv2D)   (None, 38, 38, 288)  13824       ['block3a_project_bn[0][0]']     \n",
            "                                                                                                  \n",
            " block3b_expand_bn (BatchNormal  (None, 38, 38, 288)  1152       ['block3b_expand_conv[0][0]']    \n",
            " ization)                                                                                         \n",
            "                                                                                                  \n",
            " block3b_expand_activation (Act  (None, 38, 38, 288)  0          ['block3b_expand_bn[0][0]']      \n",
            " ivation)                                                                                         \n",
            "                                                                                                  \n",
            " block3b_dwconv (DepthwiseConv2  (None, 38, 38, 288)  7200       ['block3b_expand_activation[0][0]\n",
            " D)                                                              ']                               \n",
            "                                                                                                  \n",
            " block3b_bn (BatchNormalization  (None, 38, 38, 288)  1152       ['block3b_dwconv[0][0]']         \n",
            " )                                                                                                \n",
            "                                                                                                  \n",
            " block3b_activation (Activation  (None, 38, 38, 288)  0          ['block3b_bn[0][0]']             \n",
            " )                                                                                                \n",
            "                                                                                                  \n",
            " block3b_se_squeeze (GlobalAver  (None, 288)         0           ['block3b_activation[0][0]']     \n",
            " agePooling2D)                                                                                    \n",
            "                                                                                                  \n",
            " block3b_se_reshape (Reshape)   (None, 1, 1, 288)    0           ['block3b_se_squeeze[0][0]']     \n",
            "                                                                                                  \n",
            " block3b_se_reduce (Conv2D)     (None, 1, 1, 12)     3468        ['block3b_se_reshape[0][0]']     \n",
            "                                                                                                  \n",
            " block3b_se_expand (Conv2D)     (None, 1, 1, 288)    3744        ['block3b_se_reduce[0][0]']      \n",
            "                                                                                                  \n",
            " block3b_se_excite (Multiply)   (None, 38, 38, 288)  0           ['block3b_activation[0][0]',     \n",
            "                                                                  'block3b_se_expand[0][0]']      \n",
            "                                                                                                  \n",
            " block3b_project_conv (Conv2D)  (None, 38, 38, 48)   13824       ['block3b_se_excite[0][0]']      \n",
            "                                                                                                  \n",
            " block3b_project_bn (BatchNorma  (None, 38, 38, 48)  192         ['block3b_project_conv[0][0]']   \n",
            " lization)                                                                                        \n",
            "                                                                                                  \n",
            " block3b_drop (Dropout)         (None, 38, 38, 48)   0           ['block3b_project_bn[0][0]']     \n",
            "                                                                                                  \n",
            " block3b_add (Add)              (None, 38, 38, 48)   0           ['block3b_drop[0][0]',           \n",
            "                                                                  'block3a_project_bn[0][0]']     \n",
            "                                                                                                  \n",
            " block3c_expand_conv (Conv2D)   (None, 38, 38, 288)  13824       ['block3b_add[0][0]']            \n",
            "                                                                                                  \n",
            " block3c_expand_bn (BatchNormal  (None, 38, 38, 288)  1152       ['block3c_expand_conv[0][0]']    \n",
            " ization)                                                                                         \n",
            "                                                                                                  \n",
            " block3c_expand_activation (Act  (None, 38, 38, 288)  0          ['block3c_expand_bn[0][0]']      \n",
            " ivation)                                                                                         \n",
            "                                                                                                  \n",
            " block3c_dwconv (DepthwiseConv2  (None, 38, 38, 288)  7200       ['block3c_expand_activation[0][0]\n",
            " D)                                                              ']                               \n",
            "                                                                                                  \n",
            " block3c_bn (BatchNormalization  (None, 38, 38, 288)  1152       ['block3c_dwconv[0][0]']         \n",
            " )                                                                                                \n",
            "                                                                                                  \n",
            " block3c_activation (Activation  (None, 38, 38, 288)  0          ['block3c_bn[0][0]']             \n",
            " )                                                                                                \n",
            "                                                                                                  \n",
            " block3c_se_squeeze (GlobalAver  (None, 288)         0           ['block3c_activation[0][0]']     \n",
            " agePooling2D)                                                                                    \n",
            "                                                                                                  \n",
            " block3c_se_reshape (Reshape)   (None, 1, 1, 288)    0           ['block3c_se_squeeze[0][0]']     \n",
            "                                                                                                  \n",
            " block3c_se_reduce (Conv2D)     (None, 1, 1, 12)     3468        ['block3c_se_reshape[0][0]']     \n",
            "                                                                                                  \n",
            " block3c_se_expand (Conv2D)     (None, 1, 1, 288)    3744        ['block3c_se_reduce[0][0]']      \n",
            "                                                                                                  \n",
            " block3c_se_excite (Multiply)   (None, 38, 38, 288)  0           ['block3c_activation[0][0]',     \n",
            "                                                                  'block3c_se_expand[0][0]']      \n",
            "                                                                                                  \n",
            " block3c_project_conv (Conv2D)  (None, 38, 38, 48)   13824       ['block3c_se_excite[0][0]']      \n",
            "                                                                                                  \n",
            " block3c_project_bn (BatchNorma  (None, 38, 38, 48)  192         ['block3c_project_conv[0][0]']   \n",
            " lization)                                                                                        \n",
            "                                                                                                  \n",
            " block3c_drop (Dropout)         (None, 38, 38, 48)   0           ['block3c_project_bn[0][0]']     \n",
            "                                                                                                  \n",
            " block3c_add (Add)              (None, 38, 38, 48)   0           ['block3c_drop[0][0]',           \n",
            "                                                                  'block3b_add[0][0]']            \n",
            "                                                                                                  \n",
            " block4a_expand_conv (Conv2D)   (None, 38, 38, 288)  13824       ['block3c_add[0][0]']            \n",
            "                                                                                                  \n",
            " block4a_expand_bn (BatchNormal  (None, 38, 38, 288)  1152       ['block4a_expand_conv[0][0]']    \n",
            " ization)                                                                                         \n",
            "                                                                                                  \n",
            " block4a_expand_activation (Act  (None, 38, 38, 288)  0          ['block4a_expand_bn[0][0]']      \n",
            " ivation)                                                                                         \n",
            "                                                                                                  \n",
            " block4a_dwconv_pad (ZeroPaddin  (None, 39, 39, 288)  0          ['block4a_expand_activation[0][0]\n",
            " g2D)                                                            ']                               \n",
            "                                                                                                  \n",
            " block4a_dwconv (DepthwiseConv2  (None, 19, 19, 288)  2592       ['block4a_dwconv_pad[0][0]']     \n",
            " D)                                                                                               \n",
            "                                                                                                  \n",
            " block4a_bn (BatchNormalization  (None, 19, 19, 288)  1152       ['block4a_dwconv[0][0]']         \n",
            " )                                                                                                \n",
            "                                                                                                  \n",
            " block4a_activation (Activation  (None, 19, 19, 288)  0          ['block4a_bn[0][0]']             \n",
            " )                                                                                                \n",
            "                                                                                                  \n",
            " block4a_se_squeeze (GlobalAver  (None, 288)         0           ['block4a_activation[0][0]']     \n",
            " agePooling2D)                                                                                    \n",
            "                                                                                                  \n",
            " block4a_se_reshape (Reshape)   (None, 1, 1, 288)    0           ['block4a_se_squeeze[0][0]']     \n",
            "                                                                                                  \n",
            " block4a_se_reduce (Conv2D)     (None, 1, 1, 12)     3468        ['block4a_se_reshape[0][0]']     \n",
            "                                                                                                  \n",
            " block4a_se_expand (Conv2D)     (None, 1, 1, 288)    3744        ['block4a_se_reduce[0][0]']      \n",
            "                                                                                                  \n",
            " block4a_se_excite (Multiply)   (None, 19, 19, 288)  0           ['block4a_activation[0][0]',     \n",
            "                                                                  'block4a_se_expand[0][0]']      \n",
            "                                                                                                  \n",
            " block4a_project_conv (Conv2D)  (None, 19, 19, 96)   27648       ['block4a_se_excite[0][0]']      \n",
            "                                                                                                  \n",
            " block4a_project_bn (BatchNorma  (None, 19, 19, 96)  384         ['block4a_project_conv[0][0]']   \n",
            " lization)                                                                                        \n",
            "                                                                                                  \n",
            " block4b_expand_conv (Conv2D)   (None, 19, 19, 576)  55296       ['block4a_project_bn[0][0]']     \n",
            "                                                                                                  \n",
            " block4b_expand_bn (BatchNormal  (None, 19, 19, 576)  2304       ['block4b_expand_conv[0][0]']    \n",
            " ization)                                                                                         \n",
            "                                                                                                  \n",
            " block4b_expand_activation (Act  (None, 19, 19, 576)  0          ['block4b_expand_bn[0][0]']      \n",
            " ivation)                                                                                         \n",
            "                                                                                                  \n",
            " block4b_dwconv (DepthwiseConv2  (None, 19, 19, 576)  5184       ['block4b_expand_activation[0][0]\n",
            " D)                                                              ']                               \n",
            "                                                                                                  \n",
            " block4b_bn (BatchNormalization  (None, 19, 19, 576)  2304       ['block4b_dwconv[0][0]']         \n",
            " )                                                                                                \n",
            "                                                                                                  \n",
            " block4b_activation (Activation  (None, 19, 19, 576)  0          ['block4b_bn[0][0]']             \n",
            " )                                                                                                \n",
            "                                                                                                  \n",
            " block4b_se_squeeze (GlobalAver  (None, 576)         0           ['block4b_activation[0][0]']     \n",
            " agePooling2D)                                                                                    \n",
            "                                                                                                  \n",
            " block4b_se_reshape (Reshape)   (None, 1, 1, 576)    0           ['block4b_se_squeeze[0][0]']     \n",
            "                                                                                                  \n",
            " block4b_se_reduce (Conv2D)     (None, 1, 1, 24)     13848       ['block4b_se_reshape[0][0]']     \n",
            "                                                                                                  \n",
            " block4b_se_expand (Conv2D)     (None, 1, 1, 576)    14400       ['block4b_se_reduce[0][0]']      \n",
            "                                                                                                  \n",
            " block4b_se_excite (Multiply)   (None, 19, 19, 576)  0           ['block4b_activation[0][0]',     \n",
            "                                                                  'block4b_se_expand[0][0]']      \n",
            "                                                                                                  \n",
            " block4b_project_conv (Conv2D)  (None, 19, 19, 96)   55296       ['block4b_se_excite[0][0]']      \n",
            "                                                                                                  \n",
            " block4b_project_bn (BatchNorma  (None, 19, 19, 96)  384         ['block4b_project_conv[0][0]']   \n",
            " lization)                                                                                        \n",
            "                                                                                                  \n",
            " block4b_drop (Dropout)         (None, 19, 19, 96)   0           ['block4b_project_bn[0][0]']     \n",
            "                                                                                                  \n",
            " block4b_add (Add)              (None, 19, 19, 96)   0           ['block4b_drop[0][0]',           \n",
            "                                                                  'block4a_project_bn[0][0]']     \n",
            "                                                                                                  \n",
            " block4c_expand_conv (Conv2D)   (None, 19, 19, 576)  55296       ['block4b_add[0][0]']            \n",
            "                                                                                                  \n",
            " block4c_expand_bn (BatchNormal  (None, 19, 19, 576)  2304       ['block4c_expand_conv[0][0]']    \n",
            " ization)                                                                                         \n",
            "                                                                                                  \n",
            " block4c_expand_activation (Act  (None, 19, 19, 576)  0          ['block4c_expand_bn[0][0]']      \n",
            " ivation)                                                                                         \n",
            "                                                                                                  \n",
            " block4c_dwconv (DepthwiseConv2  (None, 19, 19, 576)  5184       ['block4c_expand_activation[0][0]\n",
            " D)                                                              ']                               \n",
            "                                                                                                  \n",
            " block4c_bn (BatchNormalization  (None, 19, 19, 576)  2304       ['block4c_dwconv[0][0]']         \n",
            " )                                                                                                \n",
            "                                                                                                  \n",
            " block4c_activation (Activation  (None, 19, 19, 576)  0          ['block4c_bn[0][0]']             \n",
            " )                                                                                                \n",
            "                                                                                                  \n",
            " block4c_se_squeeze (GlobalAver  (None, 576)         0           ['block4c_activation[0][0]']     \n",
            " agePooling2D)                                                                                    \n",
            "                                                                                                  \n",
            " block4c_se_reshape (Reshape)   (None, 1, 1, 576)    0           ['block4c_se_squeeze[0][0]']     \n",
            "                                                                                                  \n",
            " block4c_se_reduce (Conv2D)     (None, 1, 1, 24)     13848       ['block4c_se_reshape[0][0]']     \n",
            "                                                                                                  \n",
            " block4c_se_expand (Conv2D)     (None, 1, 1, 576)    14400       ['block4c_se_reduce[0][0]']      \n",
            "                                                                                                  \n",
            " block4c_se_excite (Multiply)   (None, 19, 19, 576)  0           ['block4c_activation[0][0]',     \n",
            "                                                                  'block4c_se_expand[0][0]']      \n",
            "                                                                                                  \n",
            " block4c_project_conv (Conv2D)  (None, 19, 19, 96)   55296       ['block4c_se_excite[0][0]']      \n",
            "                                                                                                  \n",
            " block4c_project_bn (BatchNorma  (None, 19, 19, 96)  384         ['block4c_project_conv[0][0]']   \n",
            " lization)                                                                                        \n",
            "                                                                                                  \n",
            " block4c_drop (Dropout)         (None, 19, 19, 96)   0           ['block4c_project_bn[0][0]']     \n",
            "                                                                                                  \n",
            " block4c_add (Add)              (None, 19, 19, 96)   0           ['block4c_drop[0][0]',           \n",
            "                                                                  'block4b_add[0][0]']            \n",
            "                                                                                                  \n",
            " block4d_expand_conv (Conv2D)   (None, 19, 19, 576)  55296       ['block4c_add[0][0]']            \n",
            "                                                                                                  \n",
            " block4d_expand_bn (BatchNormal  (None, 19, 19, 576)  2304       ['block4d_expand_conv[0][0]']    \n",
            " ization)                                                                                         \n",
            "                                                                                                  \n",
            " block4d_expand_activation (Act  (None, 19, 19, 576)  0          ['block4d_expand_bn[0][0]']      \n",
            " ivation)                                                                                         \n",
            "                                                                                                  \n",
            " block4d_dwconv (DepthwiseConv2  (None, 19, 19, 576)  5184       ['block4d_expand_activation[0][0]\n",
            " D)                                                              ']                               \n",
            "                                                                                                  \n",
            " block4d_bn (BatchNormalization  (None, 19, 19, 576)  2304       ['block4d_dwconv[0][0]']         \n",
            " )                                                                                                \n",
            "                                                                                                  \n",
            " block4d_activation (Activation  (None, 19, 19, 576)  0          ['block4d_bn[0][0]']             \n",
            " )                                                                                                \n",
            "                                                                                                  \n",
            " block4d_se_squeeze (GlobalAver  (None, 576)         0           ['block4d_activation[0][0]']     \n",
            " agePooling2D)                                                                                    \n",
            "                                                                                                  \n",
            " block4d_se_reshape (Reshape)   (None, 1, 1, 576)    0           ['block4d_se_squeeze[0][0]']     \n",
            "                                                                                                  \n",
            " block4d_se_reduce (Conv2D)     (None, 1, 1, 24)     13848       ['block4d_se_reshape[0][0]']     \n",
            "                                                                                                  \n",
            " block4d_se_expand (Conv2D)     (None, 1, 1, 576)    14400       ['block4d_se_reduce[0][0]']      \n",
            "                                                                                                  \n",
            " block4d_se_excite (Multiply)   (None, 19, 19, 576)  0           ['block4d_activation[0][0]',     \n",
            "                                                                  'block4d_se_expand[0][0]']      \n",
            "                                                                                                  \n",
            " block4d_project_conv (Conv2D)  (None, 19, 19, 96)   55296       ['block4d_se_excite[0][0]']      \n",
            "                                                                                                  \n",
            " block4d_project_bn (BatchNorma  (None, 19, 19, 96)  384         ['block4d_project_conv[0][0]']   \n",
            " lization)                                                                                        \n",
            "                                                                                                  \n",
            " block4d_drop (Dropout)         (None, 19, 19, 96)   0           ['block4d_project_bn[0][0]']     \n",
            "                                                                                                  \n",
            " block4d_add (Add)              (None, 19, 19, 96)   0           ['block4d_drop[0][0]',           \n",
            "                                                                  'block4c_add[0][0]']            \n",
            "                                                                                                  \n",
            " block4e_expand_conv (Conv2D)   (None, 19, 19, 576)  55296       ['block4d_add[0][0]']            \n",
            "                                                                                                  \n",
            " block4e_expand_bn (BatchNormal  (None, 19, 19, 576)  2304       ['block4e_expand_conv[0][0]']    \n",
            " ization)                                                                                         \n",
            "                                                                                                  \n",
            " block4e_expand_activation (Act  (None, 19, 19, 576)  0          ['block4e_expand_bn[0][0]']      \n",
            " ivation)                                                                                         \n",
            "                                                                                                  \n",
            " block4e_dwconv (DepthwiseConv2  (None, 19, 19, 576)  5184       ['block4e_expand_activation[0][0]\n",
            " D)                                                              ']                               \n",
            "                                                                                                  \n",
            " block4e_bn (BatchNormalization  (None, 19, 19, 576)  2304       ['block4e_dwconv[0][0]']         \n",
            " )                                                                                                \n",
            "                                                                                                  \n",
            " block4e_activation (Activation  (None, 19, 19, 576)  0          ['block4e_bn[0][0]']             \n",
            " )                                                                                                \n",
            "                                                                                                  \n",
            " block4e_se_squeeze (GlobalAver  (None, 576)         0           ['block4e_activation[0][0]']     \n",
            " agePooling2D)                                                                                    \n",
            "                                                                                                  \n",
            " block4e_se_reshape (Reshape)   (None, 1, 1, 576)    0           ['block4e_se_squeeze[0][0]']     \n",
            "                                                                                                  \n",
            " block4e_se_reduce (Conv2D)     (None, 1, 1, 24)     13848       ['block4e_se_reshape[0][0]']     \n",
            "                                                                                                  \n",
            " block4e_se_expand (Conv2D)     (None, 1, 1, 576)    14400       ['block4e_se_reduce[0][0]']      \n",
            "                                                                                                  \n",
            " block4e_se_excite (Multiply)   (None, 19, 19, 576)  0           ['block4e_activation[0][0]',     \n",
            "                                                                  'block4e_se_expand[0][0]']      \n",
            "                                                                                                  \n",
            " block4e_project_conv (Conv2D)  (None, 19, 19, 96)   55296       ['block4e_se_excite[0][0]']      \n",
            "                                                                                                  \n",
            " block4e_project_bn (BatchNorma  (None, 19, 19, 96)  384         ['block4e_project_conv[0][0]']   \n",
            " lization)                                                                                        \n",
            "                                                                                                  \n",
            " block4e_drop (Dropout)         (None, 19, 19, 96)   0           ['block4e_project_bn[0][0]']     \n",
            "                                                                                                  \n",
            " block4e_add (Add)              (None, 19, 19, 96)   0           ['block4e_drop[0][0]',           \n",
            "                                                                  'block4d_add[0][0]']            \n",
            "                                                                                                  \n",
            " block5a_expand_conv (Conv2D)   (None, 19, 19, 576)  55296       ['block4e_add[0][0]']            \n",
            "                                                                                                  \n",
            " block5a_expand_bn (BatchNormal  (None, 19, 19, 576)  2304       ['block5a_expand_conv[0][0]']    \n",
            " ization)                                                                                         \n",
            "                                                                                                  \n",
            " block5a_expand_activation (Act  (None, 19, 19, 576)  0          ['block5a_expand_bn[0][0]']      \n",
            " ivation)                                                                                         \n",
            "                                                                                                  \n",
            " block5a_dwconv (DepthwiseConv2  (None, 19, 19, 576)  14400      ['block5a_expand_activation[0][0]\n",
            " D)                                                              ']                               \n",
            "                                                                                                  \n",
            " block5a_bn (BatchNormalization  (None, 19, 19, 576)  2304       ['block5a_dwconv[0][0]']         \n",
            " )                                                                                                \n",
            "                                                                                                  \n",
            " block5a_activation (Activation  (None, 19, 19, 576)  0          ['block5a_bn[0][0]']             \n",
            " )                                                                                                \n",
            "                                                                                                  \n",
            " block5a_se_squeeze (GlobalAver  (None, 576)         0           ['block5a_activation[0][0]']     \n",
            " agePooling2D)                                                                                    \n",
            "                                                                                                  \n",
            " block5a_se_reshape (Reshape)   (None, 1, 1, 576)    0           ['block5a_se_squeeze[0][0]']     \n",
            "                                                                                                  \n",
            " block5a_se_reduce (Conv2D)     (None, 1, 1, 24)     13848       ['block5a_se_reshape[0][0]']     \n",
            "                                                                                                  \n",
            " block5a_se_expand (Conv2D)     (None, 1, 1, 576)    14400       ['block5a_se_reduce[0][0]']      \n",
            "                                                                                                  \n",
            " block5a_se_excite (Multiply)   (None, 19, 19, 576)  0           ['block5a_activation[0][0]',     \n",
            "                                                                  'block5a_se_expand[0][0]']      \n",
            "                                                                                                  \n",
            " block5a_project_conv (Conv2D)  (None, 19, 19, 136)  78336       ['block5a_se_excite[0][0]']      \n",
            "                                                                                                  \n",
            " block5a_project_bn (BatchNorma  (None, 19, 19, 136)  544        ['block5a_project_conv[0][0]']   \n",
            " lization)                                                                                        \n",
            "                                                                                                  \n",
            " block5b_expand_conv (Conv2D)   (None, 19, 19, 816)  110976      ['block5a_project_bn[0][0]']     \n",
            "                                                                                                  \n",
            " block5b_expand_bn (BatchNormal  (None, 19, 19, 816)  3264       ['block5b_expand_conv[0][0]']    \n",
            " ization)                                                                                         \n",
            "                                                                                                  \n",
            " block5b_expand_activation (Act  (None, 19, 19, 816)  0          ['block5b_expand_bn[0][0]']      \n",
            " ivation)                                                                                         \n",
            "                                                                                                  \n",
            " block5b_dwconv (DepthwiseConv2  (None, 19, 19, 816)  20400      ['block5b_expand_activation[0][0]\n",
            " D)                                                              ']                               \n",
            "                                                                                                  \n",
            " block5b_bn (BatchNormalization  (None, 19, 19, 816)  3264       ['block5b_dwconv[0][0]']         \n",
            " )                                                                                                \n",
            "                                                                                                  \n",
            " block5b_activation (Activation  (None, 19, 19, 816)  0          ['block5b_bn[0][0]']             \n",
            " )                                                                                                \n",
            "                                                                                                  \n",
            " block5b_se_squeeze (GlobalAver  (None, 816)         0           ['block5b_activation[0][0]']     \n",
            " agePooling2D)                                                                                    \n",
            "                                                                                                  \n",
            " block5b_se_reshape (Reshape)   (None, 1, 1, 816)    0           ['block5b_se_squeeze[0][0]']     \n",
            "                                                                                                  \n",
            " block5b_se_reduce (Conv2D)     (None, 1, 1, 34)     27778       ['block5b_se_reshape[0][0]']     \n",
            "                                                                                                  \n",
            " block5b_se_expand (Conv2D)     (None, 1, 1, 816)    28560       ['block5b_se_reduce[0][0]']      \n",
            "                                                                                                  \n",
            " block5b_se_excite (Multiply)   (None, 19, 19, 816)  0           ['block5b_activation[0][0]',     \n",
            "                                                                  'block5b_se_expand[0][0]']      \n",
            "                                                                                                  \n",
            " block5b_project_conv (Conv2D)  (None, 19, 19, 136)  110976      ['block5b_se_excite[0][0]']      \n",
            "                                                                                                  \n",
            " block5b_project_bn (BatchNorma  (None, 19, 19, 136)  544        ['block5b_project_conv[0][0]']   \n",
            " lization)                                                                                        \n",
            "                                                                                                  \n",
            " block5b_drop (Dropout)         (None, 19, 19, 136)  0           ['block5b_project_bn[0][0]']     \n",
            "                                                                                                  \n",
            " block5b_add (Add)              (None, 19, 19, 136)  0           ['block5b_drop[0][0]',           \n",
            "                                                                  'block5a_project_bn[0][0]']     \n",
            "                                                                                                  \n",
            " block5c_expand_conv (Conv2D)   (None, 19, 19, 816)  110976      ['block5b_add[0][0]']            \n",
            "                                                                                                  \n",
            " block5c_expand_bn (BatchNormal  (None, 19, 19, 816)  3264       ['block5c_expand_conv[0][0]']    \n",
            " ization)                                                                                         \n",
            "                                                                                                  \n",
            " block5c_expand_activation (Act  (None, 19, 19, 816)  0          ['block5c_expand_bn[0][0]']      \n",
            " ivation)                                                                                         \n",
            "                                                                                                  \n",
            " block5c_dwconv (DepthwiseConv2  (None, 19, 19, 816)  20400      ['block5c_expand_activation[0][0]\n",
            " D)                                                              ']                               \n",
            "                                                                                                  \n",
            " block5c_bn (BatchNormalization  (None, 19, 19, 816)  3264       ['block5c_dwconv[0][0]']         \n",
            " )                                                                                                \n",
            "                                                                                                  \n",
            " block5c_activation (Activation  (None, 19, 19, 816)  0          ['block5c_bn[0][0]']             \n",
            " )                                                                                                \n",
            "                                                                                                  \n",
            " block5c_se_squeeze (GlobalAver  (None, 816)         0           ['block5c_activation[0][0]']     \n",
            " agePooling2D)                                                                                    \n",
            "                                                                                                  \n",
            " block5c_se_reshape (Reshape)   (None, 1, 1, 816)    0           ['block5c_se_squeeze[0][0]']     \n",
            "                                                                                                  \n",
            " block5c_se_reduce (Conv2D)     (None, 1, 1, 34)     27778       ['block5c_se_reshape[0][0]']     \n",
            "                                                                                                  \n",
            " block5c_se_expand (Conv2D)     (None, 1, 1, 816)    28560       ['block5c_se_reduce[0][0]']      \n",
            "                                                                                                  \n",
            " block5c_se_excite (Multiply)   (None, 19, 19, 816)  0           ['block5c_activation[0][0]',     \n",
            "                                                                  'block5c_se_expand[0][0]']      \n",
            "                                                                                                  \n",
            " block5c_project_conv (Conv2D)  (None, 19, 19, 136)  110976      ['block5c_se_excite[0][0]']      \n",
            "                                                                                                  \n",
            " block5c_project_bn (BatchNorma  (None, 19, 19, 136)  544        ['block5c_project_conv[0][0]']   \n",
            " lization)                                                                                        \n",
            "                                                                                                  \n",
            " block5c_drop (Dropout)         (None, 19, 19, 136)  0           ['block5c_project_bn[0][0]']     \n",
            "                                                                                                  \n",
            " block5c_add (Add)              (None, 19, 19, 136)  0           ['block5c_drop[0][0]',           \n",
            "                                                                  'block5b_add[0][0]']            \n",
            "                                                                                                  \n",
            " block5d_expand_conv (Conv2D)   (None, 19, 19, 816)  110976      ['block5c_add[0][0]']            \n",
            "                                                                                                  \n",
            " block5d_expand_bn (BatchNormal  (None, 19, 19, 816)  3264       ['block5d_expand_conv[0][0]']    \n",
            " ization)                                                                                         \n",
            "                                                                                                  \n",
            " block5d_expand_activation (Act  (None, 19, 19, 816)  0          ['block5d_expand_bn[0][0]']      \n",
            " ivation)                                                                                         \n",
            "                                                                                                  \n",
            " block5d_dwconv (DepthwiseConv2  (None, 19, 19, 816)  20400      ['block5d_expand_activation[0][0]\n",
            " D)                                                              ']                               \n",
            "                                                                                                  \n",
            " block5d_bn (BatchNormalization  (None, 19, 19, 816)  3264       ['block5d_dwconv[0][0]']         \n",
            " )                                                                                                \n",
            "                                                                                                  \n",
            " block5d_activation (Activation  (None, 19, 19, 816)  0          ['block5d_bn[0][0]']             \n",
            " )                                                                                                \n",
            "                                                                                                  \n",
            " block5d_se_squeeze (GlobalAver  (None, 816)         0           ['block5d_activation[0][0]']     \n",
            " agePooling2D)                                                                                    \n",
            "                                                                                                  \n",
            " block5d_se_reshape (Reshape)   (None, 1, 1, 816)    0           ['block5d_se_squeeze[0][0]']     \n",
            "                                                                                                  \n",
            " block5d_se_reduce (Conv2D)     (None, 1, 1, 34)     27778       ['block5d_se_reshape[0][0]']     \n",
            "                                                                                                  \n",
            " block5d_se_expand (Conv2D)     (None, 1, 1, 816)    28560       ['block5d_se_reduce[0][0]']      \n",
            "                                                                                                  \n",
            " block5d_se_excite (Multiply)   (None, 19, 19, 816)  0           ['block5d_activation[0][0]',     \n",
            "                                                                  'block5d_se_expand[0][0]']      \n",
            "                                                                                                  \n",
            " block5d_project_conv (Conv2D)  (None, 19, 19, 136)  110976      ['block5d_se_excite[0][0]']      \n",
            "                                                                                                  \n",
            " block5d_project_bn (BatchNorma  (None, 19, 19, 136)  544        ['block5d_project_conv[0][0]']   \n",
            " lization)                                                                                        \n",
            "                                                                                                  \n",
            " block5d_drop (Dropout)         (None, 19, 19, 136)  0           ['block5d_project_bn[0][0]']     \n",
            "                                                                                                  \n",
            " block5d_add (Add)              (None, 19, 19, 136)  0           ['block5d_drop[0][0]',           \n",
            "                                                                  'block5c_add[0][0]']            \n",
            "                                                                                                  \n",
            " block5e_expand_conv (Conv2D)   (None, 19, 19, 816)  110976      ['block5d_add[0][0]']            \n",
            "                                                                                                  \n",
            " block5e_expand_bn (BatchNormal  (None, 19, 19, 816)  3264       ['block5e_expand_conv[0][0]']    \n",
            " ization)                                                                                         \n",
            "                                                                                                  \n",
            " block5e_expand_activation (Act  (None, 19, 19, 816)  0          ['block5e_expand_bn[0][0]']      \n",
            " ivation)                                                                                         \n",
            "                                                                                                  \n",
            " block5e_dwconv (DepthwiseConv2  (None, 19, 19, 816)  20400      ['block5e_expand_activation[0][0]\n",
            " D)                                                              ']                               \n",
            "                                                                                                  \n",
            " block5e_bn (BatchNormalization  (None, 19, 19, 816)  3264       ['block5e_dwconv[0][0]']         \n",
            " )                                                                                                \n",
            "                                                                                                  \n",
            " block5e_activation (Activation  (None, 19, 19, 816)  0          ['block5e_bn[0][0]']             \n",
            " )                                                                                                \n",
            "                                                                                                  \n",
            " block5e_se_squeeze (GlobalAver  (None, 816)         0           ['block5e_activation[0][0]']     \n",
            " agePooling2D)                                                                                    \n",
            "                                                                                                  \n",
            " block5e_se_reshape (Reshape)   (None, 1, 1, 816)    0           ['block5e_se_squeeze[0][0]']     \n",
            "                                                                                                  \n",
            " block5e_se_reduce (Conv2D)     (None, 1, 1, 34)     27778       ['block5e_se_reshape[0][0]']     \n",
            "                                                                                                  \n",
            " block5e_se_expand (Conv2D)     (None, 1, 1, 816)    28560       ['block5e_se_reduce[0][0]']      \n",
            "                                                                                                  \n",
            " block5e_se_excite (Multiply)   (None, 19, 19, 816)  0           ['block5e_activation[0][0]',     \n",
            "                                                                  'block5e_se_expand[0][0]']      \n",
            "                                                                                                  \n",
            " block5e_project_conv (Conv2D)  (None, 19, 19, 136)  110976      ['block5e_se_excite[0][0]']      \n",
            "                                                                                                  \n",
            " block5e_project_bn (BatchNorma  (None, 19, 19, 136)  544        ['block5e_project_conv[0][0]']   \n",
            " lization)                                                                                        \n",
            "                                                                                                  \n",
            " block5e_drop (Dropout)         (None, 19, 19, 136)  0           ['block5e_project_bn[0][0]']     \n",
            "                                                                                                  \n",
            " block5e_add (Add)              (None, 19, 19, 136)  0           ['block5e_drop[0][0]',           \n",
            "                                                                  'block5d_add[0][0]']            \n",
            "                                                                                                  \n",
            " block6a_expand_conv (Conv2D)   (None, 19, 19, 816)  110976      ['block5e_add[0][0]']            \n",
            "                                                                                                  \n",
            " block6a_expand_bn (BatchNormal  (None, 19, 19, 816)  3264       ['block6a_expand_conv[0][0]']    \n",
            " ization)                                                                                         \n",
            "                                                                                                  \n",
            " block6a_expand_activation (Act  (None, 19, 19, 816)  0          ['block6a_expand_bn[0][0]']      \n",
            " ivation)                                                                                         \n",
            "                                                                                                  \n",
            " block6a_dwconv_pad (ZeroPaddin  (None, 23, 23, 816)  0          ['block6a_expand_activation[0][0]\n",
            " g2D)                                                            ']                               \n",
            "                                                                                                  \n",
            " block6a_dwconv (DepthwiseConv2  (None, 10, 10, 816)  20400      ['block6a_dwconv_pad[0][0]']     \n",
            " D)                                                                                               \n",
            "                                                                                                  \n",
            " block6a_bn (BatchNormalization  (None, 10, 10, 816)  3264       ['block6a_dwconv[0][0]']         \n",
            " )                                                                                                \n",
            "                                                                                                  \n",
            " block6a_activation (Activation  (None, 10, 10, 816)  0          ['block6a_bn[0][0]']             \n",
            " )                                                                                                \n",
            "                                                                                                  \n",
            " block6a_se_squeeze (GlobalAver  (None, 816)         0           ['block6a_activation[0][0]']     \n",
            " agePooling2D)                                                                                    \n",
            "                                                                                                  \n",
            " block6a_se_reshape (Reshape)   (None, 1, 1, 816)    0           ['block6a_se_squeeze[0][0]']     \n",
            "                                                                                                  \n",
            " block6a_se_reduce (Conv2D)     (None, 1, 1, 34)     27778       ['block6a_se_reshape[0][0]']     \n",
            "                                                                                                  \n",
            " block6a_se_expand (Conv2D)     (None, 1, 1, 816)    28560       ['block6a_se_reduce[0][0]']      \n",
            "                                                                                                  \n",
            " block6a_se_excite (Multiply)   (None, 10, 10, 816)  0           ['block6a_activation[0][0]',     \n",
            "                                                                  'block6a_se_expand[0][0]']      \n",
            "                                                                                                  \n",
            " block6a_project_conv (Conv2D)  (None, 10, 10, 232)  189312      ['block6a_se_excite[0][0]']      \n",
            "                                                                                                  \n",
            " block6a_project_bn (BatchNorma  (None, 10, 10, 232)  928        ['block6a_project_conv[0][0]']   \n",
            " lization)                                                                                        \n",
            "                                                                                                  \n",
            " block6b_expand_conv (Conv2D)   (None, 10, 10, 1392  322944      ['block6a_project_bn[0][0]']     \n",
            "                                )                                                                 \n",
            "                                                                                                  \n",
            " block6b_expand_bn (BatchNormal  (None, 10, 10, 1392  5568       ['block6b_expand_conv[0][0]']    \n",
            " ization)                       )                                                                 \n",
            "                                                                                                  \n",
            " block6b_expand_activation (Act  (None, 10, 10, 1392  0          ['block6b_expand_bn[0][0]']      \n",
            " ivation)                       )                                                                 \n",
            "                                                                                                  \n",
            " block6b_dwconv (DepthwiseConv2  (None, 10, 10, 1392  34800      ['block6b_expand_activation[0][0]\n",
            " D)                             )                                ']                               \n",
            "                                                                                                  \n",
            " block6b_bn (BatchNormalization  (None, 10, 10, 1392  5568       ['block6b_dwconv[0][0]']         \n",
            " )                              )                                                                 \n",
            "                                                                                                  \n",
            " block6b_activation (Activation  (None, 10, 10, 1392  0          ['block6b_bn[0][0]']             \n",
            " )                              )                                                                 \n",
            "                                                                                                  \n",
            " block6b_se_squeeze (GlobalAver  (None, 1392)        0           ['block6b_activation[0][0]']     \n",
            " agePooling2D)                                                                                    \n",
            "                                                                                                  \n",
            " block6b_se_reshape (Reshape)   (None, 1, 1, 1392)   0           ['block6b_se_squeeze[0][0]']     \n",
            "                                                                                                  \n",
            " block6b_se_reduce (Conv2D)     (None, 1, 1, 58)     80794       ['block6b_se_reshape[0][0]']     \n",
            "                                                                                                  \n",
            " block6b_se_expand (Conv2D)     (None, 1, 1, 1392)   82128       ['block6b_se_reduce[0][0]']      \n",
            "                                                                                                  \n",
            " block6b_se_excite (Multiply)   (None, 10, 10, 1392  0           ['block6b_activation[0][0]',     \n",
            "                                )                                 'block6b_se_expand[0][0]']      \n",
            "                                                                                                  \n",
            " block6b_project_conv (Conv2D)  (None, 10, 10, 232)  322944      ['block6b_se_excite[0][0]']      \n",
            "                                                                                                  \n",
            " block6b_project_bn (BatchNorma  (None, 10, 10, 232)  928        ['block6b_project_conv[0][0]']   \n",
            " lization)                                                                                        \n",
            "                                                                                                  \n",
            " block6b_drop (Dropout)         (None, 10, 10, 232)  0           ['block6b_project_bn[0][0]']     \n",
            "                                                                                                  \n",
            " block6b_add (Add)              (None, 10, 10, 232)  0           ['block6b_drop[0][0]',           \n",
            "                                                                  'block6a_project_bn[0][0]']     \n",
            "                                                                                                  \n",
            " block6c_expand_conv (Conv2D)   (None, 10, 10, 1392  322944      ['block6b_add[0][0]']            \n",
            "                                )                                                                 \n",
            "                                                                                                  \n",
            " block6c_expand_bn (BatchNormal  (None, 10, 10, 1392  5568       ['block6c_expand_conv[0][0]']    \n",
            " ization)                       )                                                                 \n",
            "                                                                                                  \n",
            " block6c_expand_activation (Act  (None, 10, 10, 1392  0          ['block6c_expand_bn[0][0]']      \n",
            " ivation)                       )                                                                 \n",
            "                                                                                                  \n",
            " block6c_dwconv (DepthwiseConv2  (None, 10, 10, 1392  34800      ['block6c_expand_activation[0][0]\n",
            " D)                             )                                ']                               \n",
            "                                                                                                  \n",
            " block6c_bn (BatchNormalization  (None, 10, 10, 1392  5568       ['block6c_dwconv[0][0]']         \n",
            " )                              )                                                                 \n",
            "                                                                                                  \n",
            " block6c_activation (Activation  (None, 10, 10, 1392  0          ['block6c_bn[0][0]']             \n",
            " )                              )                                                                 \n",
            "                                                                                                  \n",
            " block6c_se_squeeze (GlobalAver  (None, 1392)        0           ['block6c_activation[0][0]']     \n",
            " agePooling2D)                                                                                    \n",
            "                                                                                                  \n",
            " input_1 (InputLayer)           [(None, 300, 300, 3  0           []                               \n",
            "                                )]                                                                \n",
            "                                                                                                  \n",
            " block6c_se_reshape (Reshape)   (None, 1, 1, 1392)   0           ['block6c_se_squeeze[0][0]']     \n",
            "                                                                                                  \n",
            " conv1 (Conv2D)                 (None, 150, 150, 32  864         ['input_1[0][0]']                \n",
            "                                )                                                                 \n",
            "                                                                                                  \n",
            " block6c_se_reduce (Conv2D)     (None, 1, 1, 58)     80794       ['block6c_se_reshape[0][0]']     \n",
            "                                                                                                  \n",
            " conv1_bn (BatchNormalization)  (None, 150, 150, 32  128         ['conv1[0][0]']                  \n",
            "                                )                                                                 \n",
            "                                                                                                  \n",
            " block6c_se_expand (Conv2D)     (None, 1, 1, 1392)   82128       ['block6c_se_reduce[0][0]']      \n",
            "                                                                                                  \n",
            " conv1_relu (ReLU)              (None, 150, 150, 32  0           ['conv1_bn[0][0]']               \n",
            "                                )                                                                 \n",
            "                                                                                                  \n",
            " block6c_se_excite (Multiply)   (None, 10, 10, 1392  0           ['block6c_activation[0][0]',     \n",
            "                                )                                 'block6c_se_expand[0][0]']      \n",
            "                                                                                                  \n",
            " conv_dw_1 (DepthwiseConv2D)    (None, 150, 150, 32  288         ['conv1_relu[0][0]']             \n",
            "                                )                                                                 \n",
            "                                                                                                  \n",
            " block6c_project_conv (Conv2D)  (None, 10, 10, 232)  322944      ['block6c_se_excite[0][0]']      \n",
            "                                                                                                  \n",
            " conv_dw_1_bn (BatchNormalizati  (None, 150, 150, 32  128        ['conv_dw_1[0][0]']              \n",
            " on)                            )                                                                 \n",
            "                                                                                                  \n",
            " block6c_project_bn (BatchNorma  (None, 10, 10, 232)  928        ['block6c_project_conv[0][0]']   \n",
            " lization)                                                                                        \n",
            "                                                                                                  \n",
            " conv_dw_1_relu (ReLU)          (None, 150, 150, 32  0           ['conv_dw_1_bn[0][0]']           \n",
            "                                )                                                                 \n",
            "                                                                                                  \n",
            " block6c_drop (Dropout)         (None, 10, 10, 232)  0           ['block6c_project_bn[0][0]']     \n",
            "                                                                                                  \n",
            " conv_pw_1 (Conv2D)             (None, 150, 150, 64  2048        ['conv_dw_1_relu[0][0]']         \n",
            "                                )                                                                 \n",
            "                                                                                                  \n",
            " block6c_add (Add)              (None, 10, 10, 232)  0           ['block6c_drop[0][0]',           \n",
            "                                                                  'block6b_add[0][0]']            \n",
            "                                                                                                  \n",
            " conv_pw_1_bn (BatchNormalizati  (None, 150, 150, 64  256        ['conv_pw_1[0][0]']              \n",
            " on)                            )                                                                 \n",
            "                                                                                                  \n",
            " block6d_expand_conv (Conv2D)   (None, 10, 10, 1392  322944      ['block6c_add[0][0]']            \n",
            "                                )                                                                 \n",
            "                                                                                                  \n",
            " conv_pw_1_relu (ReLU)          (None, 150, 150, 64  0           ['conv_pw_1_bn[0][0]']           \n",
            "                                )                                                                 \n",
            "                                                                                                  \n",
            " block6d_expand_bn (BatchNormal  (None, 10, 10, 1392  5568       ['block6d_expand_conv[0][0]']    \n",
            " ization)                       )                                                                 \n",
            "                                                                                                  \n",
            " conv_pad_2 (ZeroPadding2D)     (None, 151, 151, 64  0           ['conv_pw_1_relu[0][0]']         \n",
            "                                )                                                                 \n",
            "                                                                                                  \n",
            " block6d_expand_activation (Act  (None, 10, 10, 1392  0          ['block6d_expand_bn[0][0]']      \n",
            " ivation)                       )                                                                 \n",
            "                                                                                                  \n",
            " conv_dw_2 (DepthwiseConv2D)    (None, 75, 75, 64)   576         ['conv_pad_2[0][0]']             \n",
            "                                                                                                  \n",
            " block6d_dwconv (DepthwiseConv2  (None, 10, 10, 1392  34800      ['block6d_expand_activation[0][0]\n",
            " D)                             )                                ']                               \n",
            "                                                                                                  \n",
            " conv_dw_2_bn (BatchNormalizati  (None, 75, 75, 64)  256         ['conv_dw_2[0][0]']              \n",
            " on)                                                                                              \n",
            "                                                                                                  \n",
            " block6d_bn (BatchNormalization  (None, 10, 10, 1392  5568       ['block6d_dwconv[0][0]']         \n",
            " )                              )                                                                 \n",
            "                                                                                                  \n",
            " conv_dw_2_relu (ReLU)          (None, 75, 75, 64)   0           ['conv_dw_2_bn[0][0]']           \n",
            "                                                                                                  \n",
            " block6d_activation (Activation  (None, 10, 10, 1392  0          ['block6d_bn[0][0]']             \n",
            " )                              )                                                                 \n",
            "                                                                                                  \n",
            " conv_pw_2 (Conv2D)             (None, 75, 75, 128)  8192        ['conv_dw_2_relu[0][0]']         \n",
            "                                                                                                  \n",
            " block6d_se_squeeze (GlobalAver  (None, 1392)        0           ['block6d_activation[0][0]']     \n",
            " agePooling2D)                                                                                    \n",
            "                                                                                                  \n",
            " conv_pw_2_bn (BatchNormalizati  (None, 75, 75, 128)  512        ['conv_pw_2[0][0]']              \n",
            " on)                                                                                              \n",
            "                                                                                                  \n",
            " block6d_se_reshape (Reshape)   (None, 1, 1, 1392)   0           ['block6d_se_squeeze[0][0]']     \n",
            "                                                                                                  \n",
            " conv_pw_2_relu (ReLU)          (None, 75, 75, 128)  0           ['conv_pw_2_bn[0][0]']           \n",
            "                                                                                                  \n",
            " block6d_se_reduce (Conv2D)     (None, 1, 1, 58)     80794       ['block6d_se_reshape[0][0]']     \n",
            "                                                                                                  \n",
            " conv_dw_3 (DepthwiseConv2D)    (None, 75, 75, 128)  1152        ['conv_pw_2_relu[0][0]']         \n",
            "                                                                                                  \n",
            " block6d_se_expand (Conv2D)     (None, 1, 1, 1392)   82128       ['block6d_se_reduce[0][0]']      \n",
            "                                                                                                  \n",
            " conv_dw_3_bn (BatchNormalizati  (None, 75, 75, 128)  512        ['conv_dw_3[0][0]']              \n",
            " on)                                                                                              \n",
            "                                                                                                  \n",
            " block6d_se_excite (Multiply)   (None, 10, 10, 1392  0           ['block6d_activation[0][0]',     \n",
            "                                )                                 'block6d_se_expand[0][0]']      \n",
            "                                                                                                  \n",
            " conv_dw_3_relu (ReLU)          (None, 75, 75, 128)  0           ['conv_dw_3_bn[0][0]']           \n",
            "                                                                                                  \n",
            " block6d_project_conv (Conv2D)  (None, 10, 10, 232)  322944      ['block6d_se_excite[0][0]']      \n",
            "                                                                                                  \n",
            " conv_pw_3 (Conv2D)             (None, 75, 75, 128)  16384       ['conv_dw_3_relu[0][0]']         \n",
            "                                                                                                  \n",
            " block6d_project_bn (BatchNorma  (None, 10, 10, 232)  928        ['block6d_project_conv[0][0]']   \n",
            " lization)                                                                                        \n",
            "                                                                                                  \n",
            " conv_pw_3_bn (BatchNormalizati  (None, 75, 75, 128)  512        ['conv_pw_3[0][0]']              \n",
            " on)                                                                                              \n",
            "                                                                                                  \n",
            " block6d_drop (Dropout)         (None, 10, 10, 232)  0           ['block6d_project_bn[0][0]']     \n",
            "                                                                                                  \n",
            " conv_pw_3_relu (ReLU)          (None, 75, 75, 128)  0           ['conv_pw_3_bn[0][0]']           \n",
            "                                                                                                  \n",
            " block6d_add (Add)              (None, 10, 10, 232)  0           ['block6d_drop[0][0]',           \n",
            "                                                                  'block6c_add[0][0]']            \n",
            "                                                                                                  \n",
            " conv_pad_4 (ZeroPadding2D)     (None, 76, 76, 128)  0           ['conv_pw_3_relu[0][0]']         \n",
            "                                                                                                  \n",
            " block6e_expand_conv (Conv2D)   (None, 10, 10, 1392  322944      ['block6d_add[0][0]']            \n",
            "                                )                                                                 \n",
            "                                                                                                  \n",
            " conv_dw_4 (DepthwiseConv2D)    (None, 37, 37, 128)  1152        ['conv_pad_4[0][0]']             \n",
            "                                                                                                  \n",
            " block6e_expand_bn (BatchNormal  (None, 10, 10, 1392  5568       ['block6e_expand_conv[0][0]']    \n",
            " ization)                       )                                                                 \n",
            "                                                                                                  \n",
            " conv_dw_4_bn (BatchNormalizati  (None, 37, 37, 128)  512        ['conv_dw_4[0][0]']              \n",
            " on)                                                                                              \n",
            "                                                                                                  \n",
            " block6e_expand_activation (Act  (None, 10, 10, 1392  0          ['block6e_expand_bn[0][0]']      \n",
            " ivation)                       )                                                                 \n",
            "                                                                                                  \n",
            " conv_dw_4_relu (ReLU)          (None, 37, 37, 128)  0           ['conv_dw_4_bn[0][0]']           \n",
            "                                                                                                  \n",
            " block6e_dwconv (DepthwiseConv2  (None, 10, 10, 1392  34800      ['block6e_expand_activation[0][0]\n",
            " D)                             )                                ']                               \n",
            "                                                                                                  \n",
            " conv_pw_4 (Conv2D)             (None, 37, 37, 256)  32768       ['conv_dw_4_relu[0][0]']         \n",
            "                                                                                                  \n",
            " block6e_bn (BatchNormalization  (None, 10, 10, 1392  5568       ['block6e_dwconv[0][0]']         \n",
            " )                              )                                                                 \n",
            "                                                                                                  \n",
            " conv_pw_4_bn (BatchNormalizati  (None, 37, 37, 256)  1024       ['conv_pw_4[0][0]']              \n",
            " on)                                                                                              \n",
            "                                                                                                  \n",
            " block6e_activation (Activation  (None, 10, 10, 1392  0          ['block6e_bn[0][0]']             \n",
            " )                              )                                                                 \n",
            "                                                                                                  \n",
            " conv_pw_4_relu (ReLU)          (None, 37, 37, 256)  0           ['conv_pw_4_bn[0][0]']           \n",
            "                                                                                                  \n",
            " block6e_se_squeeze (GlobalAver  (None, 1392)        0           ['block6e_activation[0][0]']     \n",
            " agePooling2D)                                                                                    \n",
            "                                                                                                  \n",
            " conv_dw_5 (DepthwiseConv2D)    (None, 37, 37, 256)  2304        ['conv_pw_4_relu[0][0]']         \n",
            "                                                                                                  \n",
            " block6e_se_reshape (Reshape)   (None, 1, 1, 1392)   0           ['block6e_se_squeeze[0][0]']     \n",
            "                                                                                                  \n",
            " conv_dw_5_bn (BatchNormalizati  (None, 37, 37, 256)  1024       ['conv_dw_5[0][0]']              \n",
            " on)                                                                                              \n",
            "                                                                                                  \n",
            " block6e_se_reduce (Conv2D)     (None, 1, 1, 58)     80794       ['block6e_se_reshape[0][0]']     \n",
            "                                                                                                  \n",
            " conv_dw_5_relu (ReLU)          (None, 37, 37, 256)  0           ['conv_dw_5_bn[0][0]']           \n",
            "                                                                                                  \n",
            " block6e_se_expand (Conv2D)     (None, 1, 1, 1392)   82128       ['block6e_se_reduce[0][0]']      \n",
            "                                                                                                  \n",
            " conv_pw_5 (Conv2D)             (None, 37, 37, 256)  65536       ['conv_dw_5_relu[0][0]']         \n",
            "                                                                                                  \n",
            " block6e_se_excite (Multiply)   (None, 10, 10, 1392  0           ['block6e_activation[0][0]',     \n",
            "                                )                                 'block6e_se_expand[0][0]']      \n",
            "                                                                                                  \n",
            " conv_pw_5_bn (BatchNormalizati  (None, 37, 37, 256)  1024       ['conv_pw_5[0][0]']              \n",
            " on)                                                                                              \n",
            "                                                                                                  \n",
            " block6e_project_conv (Conv2D)  (None, 10, 10, 232)  322944      ['block6e_se_excite[0][0]']      \n",
            "                                                                                                  \n",
            " conv_pw_5_relu (ReLU)          (None, 37, 37, 256)  0           ['conv_pw_5_bn[0][0]']           \n",
            "                                                                                                  \n",
            " block6e_project_bn (BatchNorma  (None, 10, 10, 232)  928        ['block6e_project_conv[0][0]']   \n",
            " lization)                                                                                        \n",
            "                                                                                                  \n",
            " conv_pad_6 (ZeroPadding2D)     (None, 38, 38, 256)  0           ['conv_pw_5_relu[0][0]']         \n",
            "                                                                                                  \n",
            " block6e_drop (Dropout)         (None, 10, 10, 232)  0           ['block6e_project_bn[0][0]']     \n",
            "                                                                                                  \n",
            " conv_dw_6 (DepthwiseConv2D)    (None, 18, 18, 256)  2304        ['conv_pad_6[0][0]']             \n",
            "                                                                                                  \n",
            " block6e_add (Add)              (None, 10, 10, 232)  0           ['block6e_drop[0][0]',           \n",
            "                                                                  'block6d_add[0][0]']            \n",
            "                                                                                                  \n",
            " conv_dw_6_bn (BatchNormalizati  (None, 18, 18, 256)  1024       ['conv_dw_6[0][0]']              \n",
            " on)                                                                                              \n",
            "                                                                                                  \n",
            " block6f_expand_conv (Conv2D)   (None, 10, 10, 1392  322944      ['block6e_add[0][0]']            \n",
            "                                )                                                                 \n",
            "                                                                                                  \n",
            " conv_dw_6_relu (ReLU)          (None, 18, 18, 256)  0           ['conv_dw_6_bn[0][0]']           \n",
            "                                                                                                  \n",
            " block6f_expand_bn (BatchNormal  (None, 10, 10, 1392  5568       ['block6f_expand_conv[0][0]']    \n",
            " ization)                       )                                                                 \n",
            "                                                                                                  \n",
            " conv_pw_6 (Conv2D)             (None, 18, 18, 512)  131072      ['conv_dw_6_relu[0][0]']         \n",
            "                                                                                                  \n",
            " block6f_expand_activation (Act  (None, 10, 10, 1392  0          ['block6f_expand_bn[0][0]']      \n",
            " ivation)                       )                                                                 \n",
            "                                                                                                  \n",
            " conv_pw_6_bn (BatchNormalizati  (None, 18, 18, 512)  2048       ['conv_pw_6[0][0]']              \n",
            " on)                                                                                              \n",
            "                                                                                                  \n",
            " block6f_dwconv (DepthwiseConv2  (None, 10, 10, 1392  34800      ['block6f_expand_activation[0][0]\n",
            " D)                             )                                ']                               \n",
            "                                                                                                  \n",
            " conv_pw_6_relu (ReLU)          (None, 18, 18, 512)  0           ['conv_pw_6_bn[0][0]']           \n",
            "                                                                                                  \n",
            " block6f_bn (BatchNormalization  (None, 10, 10, 1392  5568       ['block6f_dwconv[0][0]']         \n",
            " )                              )                                                                 \n",
            "                                                                                                  \n",
            " conv_dw_7 (DepthwiseConv2D)    (None, 18, 18, 512)  4608        ['conv_pw_6_relu[0][0]']         \n",
            "                                                                                                  \n",
            " block6f_activation (Activation  (None, 10, 10, 1392  0          ['block6f_bn[0][0]']             \n",
            " )                              )                                                                 \n",
            "                                                                                                  \n",
            " conv_dw_7_bn (BatchNormalizati  (None, 18, 18, 512)  2048       ['conv_dw_7[0][0]']              \n",
            " on)                                                                                              \n",
            "                                                                                                  \n",
            " block6f_se_squeeze (GlobalAver  (None, 1392)        0           ['block6f_activation[0][0]']     \n",
            " agePooling2D)                                                                                    \n",
            "                                                                                                  \n",
            " conv_dw_7_relu (ReLU)          (None, 18, 18, 512)  0           ['conv_dw_7_bn[0][0]']           \n",
            "                                                                                                  \n",
            " block6f_se_reshape (Reshape)   (None, 1, 1, 1392)   0           ['block6f_se_squeeze[0][0]']     \n",
            "                                                                                                  \n",
            " conv_pw_7 (Conv2D)             (None, 18, 18, 512)  262144      ['conv_dw_7_relu[0][0]']         \n",
            "                                                                                                  \n",
            " block6f_se_reduce (Conv2D)     (None, 1, 1, 58)     80794       ['block6f_se_reshape[0][0]']     \n",
            "                                                                                                  \n",
            " conv_pw_7_bn (BatchNormalizati  (None, 18, 18, 512)  2048       ['conv_pw_7[0][0]']              \n",
            " on)                                                                                              \n",
            "                                                                                                  \n",
            " block6f_se_expand (Conv2D)     (None, 1, 1, 1392)   82128       ['block6f_se_reduce[0][0]']      \n",
            "                                                                                                  \n",
            " conv_pw_7_relu (ReLU)          (None, 18, 18, 512)  0           ['conv_pw_7_bn[0][0]']           \n",
            "                                                                                                  \n",
            " block6f_se_excite (Multiply)   (None, 10, 10, 1392  0           ['block6f_activation[0][0]',     \n",
            "                                )                                 'block6f_se_expand[0][0]']      \n",
            "                                                                                                  \n",
            " conv_dw_8 (DepthwiseConv2D)    (None, 18, 18, 512)  4608        ['conv_pw_7_relu[0][0]']         \n",
            "                                                                                                  \n",
            " block6f_project_conv (Conv2D)  (None, 10, 10, 232)  322944      ['block6f_se_excite[0][0]']      \n",
            "                                                                                                  \n",
            " conv_dw_8_bn (BatchNormalizati  (None, 18, 18, 512)  2048       ['conv_dw_8[0][0]']              \n",
            " on)                                                                                              \n",
            "                                                                                                  \n",
            " block6f_project_bn (BatchNorma  (None, 10, 10, 232)  928        ['block6f_project_conv[0][0]']   \n",
            " lization)                                                                                        \n",
            "                                                                                                  \n",
            " conv_dw_8_relu (ReLU)          (None, 18, 18, 512)  0           ['conv_dw_8_bn[0][0]']           \n",
            "                                                                                                  \n",
            " block6f_drop (Dropout)         (None, 10, 10, 232)  0           ['block6f_project_bn[0][0]']     \n",
            "                                                                                                  \n",
            " conv_pw_8 (Conv2D)             (None, 18, 18, 512)  262144      ['conv_dw_8_relu[0][0]']         \n",
            "                                                                                                  \n",
            " block6f_add (Add)              (None, 10, 10, 232)  0           ['block6f_drop[0][0]',           \n",
            "                                                                  'block6e_add[0][0]']            \n",
            "                                                                                                  \n",
            " conv_pw_8_bn (BatchNormalizati  (None, 18, 18, 512)  2048       ['conv_pw_8[0][0]']              \n",
            " on)                                                                                              \n",
            "                                                                                                  \n",
            " block7a_expand_conv (Conv2D)   (None, 10, 10, 1392  322944      ['block6f_add[0][0]']            \n",
            "                                )                                                                 \n",
            "                                                                                                  \n",
            " conv_pw_8_relu (ReLU)          (None, 18, 18, 512)  0           ['conv_pw_8_bn[0][0]']           \n",
            "                                                                                                  \n",
            " block7a_expand_bn (BatchNormal  (None, 10, 10, 1392  5568       ['block7a_expand_conv[0][0]']    \n",
            " ization)                       )                                                                 \n",
            "                                                                                                  \n",
            " conv_dw_9 (DepthwiseConv2D)    (None, 18, 18, 512)  4608        ['conv_pw_8_relu[0][0]']         \n",
            "                                                                                                  \n",
            " block7a_expand_activation (Act  (None, 10, 10, 1392  0          ['block7a_expand_bn[0][0]']      \n",
            " ivation)                       )                                                                 \n",
            "                                                                                                  \n",
            " conv_dw_9_bn (BatchNormalizati  (None, 18, 18, 512)  2048       ['conv_dw_9[0][0]']              \n",
            " on)                                                                                              \n",
            "                                                                                                  \n",
            " block7a_dwconv (DepthwiseConv2  (None, 10, 10, 1392  12528      ['block7a_expand_activation[0][0]\n",
            " D)                             )                                ']                               \n",
            "                                                                                                  \n",
            " conv_dw_9_relu (ReLU)          (None, 18, 18, 512)  0           ['conv_dw_9_bn[0][0]']           \n",
            "                                                                                                  \n",
            " block7a_bn (BatchNormalization  (None, 10, 10, 1392  5568       ['block7a_dwconv[0][0]']         \n",
            " )                              )                                                                 \n",
            "                                                                                                  \n",
            " conv_pw_9 (Conv2D)             (None, 18, 18, 512)  262144      ['conv_dw_9_relu[0][0]']         \n",
            "                                                                                                  \n",
            " block7a_activation (Activation  (None, 10, 10, 1392  0          ['block7a_bn[0][0]']             \n",
            " )                              )                                                                 \n",
            "                                                                                                  \n",
            " conv_pw_9_bn (BatchNormalizati  (None, 18, 18, 512)  2048       ['conv_pw_9[0][0]']              \n",
            " on)                                                                                              \n",
            "                                                                                                  \n",
            " block7a_se_squeeze (GlobalAver  (None, 1392)        0           ['block7a_activation[0][0]']     \n",
            " agePooling2D)                                                                                    \n",
            "                                                                                                  \n",
            " conv_pw_9_relu (ReLU)          (None, 18, 18, 512)  0           ['conv_pw_9_bn[0][0]']           \n",
            "                                                                                                  \n",
            " block7a_se_reshape (Reshape)   (None, 1, 1, 1392)   0           ['block7a_se_squeeze[0][0]']     \n",
            "                                                                                                  \n",
            " conv_dw_10 (DepthwiseConv2D)   (None, 18, 18, 512)  4608        ['conv_pw_9_relu[0][0]']         \n",
            "                                                                                                  \n",
            " block7a_se_reduce (Conv2D)     (None, 1, 1, 58)     80794       ['block7a_se_reshape[0][0]']     \n",
            "                                                                                                  \n",
            " conv_dw_10_bn (BatchNormalizat  (None, 18, 18, 512)  2048       ['conv_dw_10[0][0]']             \n",
            " ion)                                                                                             \n",
            "                                                                                                  \n",
            " block7a_se_expand (Conv2D)     (None, 1, 1, 1392)   82128       ['block7a_se_reduce[0][0]']      \n",
            "                                                                                                  \n",
            " conv_dw_10_relu (ReLU)         (None, 18, 18, 512)  0           ['conv_dw_10_bn[0][0]']          \n",
            "                                                                                                  \n",
            " block7a_se_excite (Multiply)   (None, 10, 10, 1392  0           ['block7a_activation[0][0]',     \n",
            "                                )                                 'block7a_se_expand[0][0]']      \n",
            "                                                                                                  \n",
            " conv_pw_10 (Conv2D)            (None, 18, 18, 512)  262144      ['conv_dw_10_relu[0][0]']        \n",
            "                                                                                                  \n",
            " block7a_project_conv (Conv2D)  (None, 10, 10, 384)  534528      ['block7a_se_excite[0][0]']      \n",
            "                                                                                                  \n",
            " conv_pw_10_bn (BatchNormalizat  (None, 18, 18, 512)  2048       ['conv_pw_10[0][0]']             \n",
            " ion)                                                                                             \n",
            "                                                                                                  \n",
            " block7a_project_bn (BatchNorma  (None, 10, 10, 384)  1536       ['block7a_project_conv[0][0]']   \n",
            " lization)                                                                                        \n",
            "                                                                                                  \n",
            " conv_pw_10_relu (ReLU)         (None, 18, 18, 512)  0           ['conv_pw_10_bn[0][0]']          \n",
            "                                                                                                  \n",
            " block7b_expand_conv (Conv2D)   (None, 10, 10, 2304  884736      ['block7a_project_bn[0][0]']     \n",
            "                                )                                                                 \n",
            "                                                                                                  \n",
            " conv_dw_11 (DepthwiseConv2D)   (None, 18, 18, 512)  4608        ['conv_pw_10_relu[0][0]']        \n",
            "                                                                                                  \n",
            " block7b_expand_bn (BatchNormal  (None, 10, 10, 2304  9216       ['block7b_expand_conv[0][0]']    \n",
            " ization)                       )                                                                 \n",
            "                                                                                                  \n",
            " conv_dw_11_bn (BatchNormalizat  (None, 18, 18, 512)  2048       ['conv_dw_11[0][0]']             \n",
            " ion)                                                                                             \n",
            "                                                                                                  \n",
            " block7b_expand_activation (Act  (None, 10, 10, 2304  0          ['block7b_expand_bn[0][0]']      \n",
            " ivation)                       )                                                                 \n",
            "                                                                                                  \n",
            " conv_dw_11_relu (ReLU)         (None, 18, 18, 512)  0           ['conv_dw_11_bn[0][0]']          \n",
            "                                                                                                  \n",
            " block7b_dwconv (DepthwiseConv2  (None, 10, 10, 2304  20736      ['block7b_expand_activation[0][0]\n",
            " D)                             )                                ']                               \n",
            "                                                                                                  \n",
            " conv_pw_11 (Conv2D)            (None, 18, 18, 512)  262144      ['conv_dw_11_relu[0][0]']        \n",
            "                                                                                                  \n",
            " block7b_bn (BatchNormalization  (None, 10, 10, 2304  9216       ['block7b_dwconv[0][0]']         \n",
            " )                              )                                                                 \n",
            "                                                                                                  \n",
            " conv_pw_11_bn (BatchNormalizat  (None, 18, 18, 512)  2048       ['conv_pw_11[0][0]']             \n",
            " ion)                                                                                             \n",
            "                                                                                                  \n",
            " block7b_activation (Activation  (None, 10, 10, 2304  0          ['block7b_bn[0][0]']             \n",
            " )                              )                                                                 \n",
            "                                                                                                  \n",
            " conv_pw_11_relu (ReLU)         (None, 18, 18, 512)  0           ['conv_pw_11_bn[0][0]']          \n",
            "                                                                                                  \n",
            " block7b_se_squeeze (GlobalAver  (None, 2304)        0           ['block7b_activation[0][0]']     \n",
            " agePooling2D)                                                                                    \n",
            "                                                                                                  \n",
            " conv_pad_12 (ZeroPadding2D)    (None, 19, 19, 512)  0           ['conv_pw_11_relu[0][0]']        \n",
            "                                                                                                  \n",
            " block7b_se_reshape (Reshape)   (None, 1, 1, 2304)   0           ['block7b_se_squeeze[0][0]']     \n",
            "                                                                                                  \n",
            " conv_dw_12 (DepthwiseConv2D)   (None, 9, 9, 512)    4608        ['conv_pad_12[0][0]']            \n",
            "                                                                                                  \n",
            " block7b_se_reduce (Conv2D)     (None, 1, 1, 96)     221280      ['block7b_se_reshape[0][0]']     \n",
            "                                                                                                  \n",
            " conv_dw_12_bn (BatchNormalizat  (None, 9, 9, 512)   2048        ['conv_dw_12[0][0]']             \n",
            " ion)                                                                                             \n",
            "                                                                                                  \n",
            " block7b_se_expand (Conv2D)     (None, 1, 1, 2304)   223488      ['block7b_se_reduce[0][0]']      \n",
            "                                                                                                  \n",
            " conv_dw_12_relu (ReLU)         (None, 9, 9, 512)    0           ['conv_dw_12_bn[0][0]']          \n",
            "                                                                                                  \n",
            " block7b_se_excite (Multiply)   (None, 10, 10, 2304  0           ['block7b_activation[0][0]',     \n",
            "                                )                                 'block7b_se_expand[0][0]']      \n",
            "                                                                                                  \n",
            " conv_pw_12 (Conv2D)            (None, 9, 9, 1024)   524288      ['conv_dw_12_relu[0][0]']        \n",
            "                                                                                                  \n",
            " block7b_project_conv (Conv2D)  (None, 10, 10, 384)  884736      ['block7b_se_excite[0][0]']      \n",
            "                                                                                                  \n",
            " conv_pw_12_bn (BatchNormalizat  (None, 9, 9, 1024)  4096        ['conv_pw_12[0][0]']             \n",
            " ion)                                                                                             \n",
            "                                                                                                  \n",
            " block7b_project_bn (BatchNorma  (None, 10, 10, 384)  1536       ['block7b_project_conv[0][0]']   \n",
            " lization)                                                                                        \n",
            "                                                                                                  \n",
            " conv_pw_12_relu (ReLU)         (None, 9, 9, 1024)   0           ['conv_pw_12_bn[0][0]']          \n",
            "                                                                                                  \n",
            " block7b_drop (Dropout)         (None, 10, 10, 384)  0           ['block7b_project_bn[0][0]']     \n",
            "                                                                                                  \n",
            " conv_dw_13 (DepthwiseConv2D)   (None, 9, 9, 1024)   9216        ['conv_pw_12_relu[0][0]']        \n",
            "                                                                                                  \n",
            " block7b_add (Add)              (None, 10, 10, 384)  0           ['block7b_drop[0][0]',           \n",
            "                                                                  'block7a_project_bn[0][0]']     \n",
            "                                                                                                  \n",
            " conv_dw_13_bn (BatchNormalizat  (None, 9, 9, 1024)  4096        ['conv_dw_13[0][0]']             \n",
            " ion)                                                                                             \n",
            "                                                                                                  \n",
            " top_conv (Conv2D)              (None, 10, 10, 1536  589824      ['block7b_add[0][0]']            \n",
            "                                )                                                                 \n",
            "                                                                                                  \n",
            " conv_dw_13_relu (ReLU)         (None, 9, 9, 1024)   0           ['conv_dw_13_bn[0][0]']          \n",
            "                                                                                                  \n",
            " top_bn (BatchNormalization)    (None, 10, 10, 1536  6144        ['top_conv[0][0]']               \n",
            "                                )                                                                 \n",
            "                                                                                                  \n",
            " conv_pw_13 (Conv2D)            (None, 9, 9, 1024)   1048576     ['conv_dw_13_relu[0][0]']        \n",
            "                                                                                                  \n",
            " top_activation (Activation)    (None, 10, 10, 1536  0           ['top_bn[0][0]']                 \n",
            "                                )                                                                 \n",
            "                                                                                                  \n",
            " conv_pw_13_bn (BatchNormalizat  (None, 9, 9, 1024)  4096        ['conv_pw_13[0][0]']             \n",
            " ion)                                                                                             \n",
            "                                                                                                  \n",
            " avg_pool (GlobalAveragePooling  (None, 1536)        0           ['top_activation[0][0]']         \n",
            " 2D)                                                                                              \n",
            "                                                                                                  \n",
            " conv_pw_13_relu (ReLU)         (None, 9, 9, 1024)   0           ['conv_pw_13_bn[0][0]']          \n",
            "                                                                                                  \n",
            " batch_normalization (BatchNorm  (None, 1536)        6144        ['avg_pool[0][0]']               \n",
            " alization)                                                                                       \n",
            "                                                                                                  \n",
            " flatten (Flatten)              (None, 82944)        0           ['conv_pw_13_relu[0][0]']        \n",
            "                                                                                                  \n",
            " top_dropout (Dropout)          (None, 1536)         0           ['batch_normalization[0][0]']    \n",
            "                                                                                                  \n",
            " box_output (Dense)             (None, 4)            331780      ['flatten[0][0]']                \n",
            "                                                                                                  \n",
            " class_output (Dense)           (None, 196)          301252      ['top_dropout[0][0]']            \n",
            "                                                                                                  \n",
            "==================================================================================================\n",
            "Total params: 14,651,575\n",
            "Trainable params: 636,104\n",
            "Non-trainable params: 14,015,471\n",
            "__________________________________________________________________________________________________\n"
          ]
        }
      ],
      "source": [
        "#Initialize the model and print summary\n",
        "\n",
        "model = create_final_baseline_model(False) # Arg is False, if you want to freeze lower layers for fast training (but low accuracy)\n",
        "model.summary() # Print summary"
      ]
    },
    {
      "cell_type": "code",
      "execution_count": null,
      "metadata": {
        "id": "LiJ1C_rikgG0"
      },
      "outputs": [],
      "source": [
        "# For classification we will have cateogirical crossentropy\n",
        "\n",
        "# For the bouding boxes we will have mean squared error\n",
        "\n",
        "losses = {\n",
        "\n",
        "    \"box_output\":\"mean_squared_error\",\n",
        "\n",
        "    \"class_output\": \"categorical_crossentropy\"\n",
        "\n",
        "        }\n",
        "\n",
        "\n",
        "# If you think that detection is harder then the classification then you can\n",
        "# Try assinging it more weight\n",
        "loss_weights = {\n",
        "\n",
        "    \"box_output\": 1.0,\n",
        "\n",
        "    \"class_output\": 1.0\n",
        "                }\n",
        "\n",
        "\n",
        "# Set the Metrics\n",
        "\n",
        "# For the class labels we want to know the Accuracy\n",
        "# And for the bounding boxes we need to know the Mean squared error\n",
        "\n",
        "custommetrics = {\n",
        "\n",
        "    \"box_output\": IoU,\n",
        "\n",
        "    \"class_output\": 'accuracy'\n",
        "\n",
        "        }\n"
      ]
    },
    {
      "cell_type": "code",
      "execution_count": null,
      "metadata": {
        "colab": {
          "base_uri": "https://localhost:8080/"
        },
        "id": "SV2ooAUw0CEt",
        "outputId": "4e52e7ff-1ebf-493e-db81-d0997bfe115d"
      },
      "outputs": [
        {
          "output_type": "stream",
          "name": "stdout",
          "text": [
            "Collecting tensorflow-addons\n",
            "  Downloading tensorflow_addons-0.16.1-cp37-cp37m-manylinux_2_12_x86_64.manylinux2010_x86_64.whl (1.1 MB)\n",
            "\u001b[?25l\r\u001b[K     |▎                               | 10 kB 31.5 MB/s eta 0:00:01\r\u001b[K     |▋                               | 20 kB 33.6 MB/s eta 0:00:01\r\u001b[K     |▉                               | 30 kB 26.9 MB/s eta 0:00:01\r\u001b[K     |█▏                              | 40 kB 16.3 MB/s eta 0:00:01\r\u001b[K     |█▌                              | 51 kB 13.6 MB/s eta 0:00:01\r\u001b[K     |█▊                              | 61 kB 15.9 MB/s eta 0:00:01\r\u001b[K     |██                              | 71 kB 15.8 MB/s eta 0:00:01\r\u001b[K     |██▍                             | 81 kB 15.4 MB/s eta 0:00:01\r\u001b[K     |██▋                             | 92 kB 17.0 MB/s eta 0:00:01\r\u001b[K     |███                             | 102 kB 15.0 MB/s eta 0:00:01\r\u001b[K     |███▏                            | 112 kB 15.0 MB/s eta 0:00:01\r\u001b[K     |███▌                            | 122 kB 15.0 MB/s eta 0:00:01\r\u001b[K     |███▉                            | 133 kB 15.0 MB/s eta 0:00:01\r\u001b[K     |████                            | 143 kB 15.0 MB/s eta 0:00:01\r\u001b[K     |████▍                           | 153 kB 15.0 MB/s eta 0:00:01\r\u001b[K     |████▊                           | 163 kB 15.0 MB/s eta 0:00:01\r\u001b[K     |█████                           | 174 kB 15.0 MB/s eta 0:00:01\r\u001b[K     |█████▎                          | 184 kB 15.0 MB/s eta 0:00:01\r\u001b[K     |█████▌                          | 194 kB 15.0 MB/s eta 0:00:01\r\u001b[K     |█████▉                          | 204 kB 15.0 MB/s eta 0:00:01\r\u001b[K     |██████▏                         | 215 kB 15.0 MB/s eta 0:00:01\r\u001b[K     |██████▍                         | 225 kB 15.0 MB/s eta 0:00:01\r\u001b[K     |██████▊                         | 235 kB 15.0 MB/s eta 0:00:01\r\u001b[K     |███████                         | 245 kB 15.0 MB/s eta 0:00:01\r\u001b[K     |███████▎                        | 256 kB 15.0 MB/s eta 0:00:01\r\u001b[K     |███████▋                        | 266 kB 15.0 MB/s eta 0:00:01\r\u001b[K     |███████▉                        | 276 kB 15.0 MB/s eta 0:00:01\r\u001b[K     |████████▏                       | 286 kB 15.0 MB/s eta 0:00:01\r\u001b[K     |████████▌                       | 296 kB 15.0 MB/s eta 0:00:01\r\u001b[K     |████████▊                       | 307 kB 15.0 MB/s eta 0:00:01\r\u001b[K     |█████████                       | 317 kB 15.0 MB/s eta 0:00:01\r\u001b[K     |█████████▍                      | 327 kB 15.0 MB/s eta 0:00:01\r\u001b[K     |█████████▋                      | 337 kB 15.0 MB/s eta 0:00:01\r\u001b[K     |██████████                      | 348 kB 15.0 MB/s eta 0:00:01\r\u001b[K     |██████████▏                     | 358 kB 15.0 MB/s eta 0:00:01\r\u001b[K     |██████████▌                     | 368 kB 15.0 MB/s eta 0:00:01\r\u001b[K     |██████████▉                     | 378 kB 15.0 MB/s eta 0:00:01\r\u001b[K     |███████████                     | 389 kB 15.0 MB/s eta 0:00:01\r\u001b[K     |███████████▍                    | 399 kB 15.0 MB/s eta 0:00:01\r\u001b[K     |███████████▊                    | 409 kB 15.0 MB/s eta 0:00:01\r\u001b[K     |████████████                    | 419 kB 15.0 MB/s eta 0:00:01\r\u001b[K     |████████████▎                   | 430 kB 15.0 MB/s eta 0:00:01\r\u001b[K     |████████████▌                   | 440 kB 15.0 MB/s eta 0:00:01\r\u001b[K     |████████████▉                   | 450 kB 15.0 MB/s eta 0:00:01\r\u001b[K     |█████████████▏                  | 460 kB 15.0 MB/s eta 0:00:01\r\u001b[K     |█████████████▍                  | 471 kB 15.0 MB/s eta 0:00:01\r\u001b[K     |█████████████▊                  | 481 kB 15.0 MB/s eta 0:00:01\r\u001b[K     |██████████████                  | 491 kB 15.0 MB/s eta 0:00:01\r\u001b[K     |██████████████▎                 | 501 kB 15.0 MB/s eta 0:00:01\r\u001b[K     |██████████████▋                 | 512 kB 15.0 MB/s eta 0:00:01\r\u001b[K     |██████████████▉                 | 522 kB 15.0 MB/s eta 0:00:01\r\u001b[K     |███████████████▏                | 532 kB 15.0 MB/s eta 0:00:01\r\u001b[K     |███████████████▌                | 542 kB 15.0 MB/s eta 0:00:01\r\u001b[K     |███████████████▊                | 552 kB 15.0 MB/s eta 0:00:01\r\u001b[K     |████████████████                | 563 kB 15.0 MB/s eta 0:00:01\r\u001b[K     |████████████████▍               | 573 kB 15.0 MB/s eta 0:00:01\r\u001b[K     |████████████████▋               | 583 kB 15.0 MB/s eta 0:00:01\r\u001b[K     |█████████████████               | 593 kB 15.0 MB/s eta 0:00:01\r\u001b[K     |█████████████████▏              | 604 kB 15.0 MB/s eta 0:00:01\r\u001b[K     |█████████████████▌              | 614 kB 15.0 MB/s eta 0:00:01\r\u001b[K     |█████████████████▉              | 624 kB 15.0 MB/s eta 0:00:01\r\u001b[K     |██████████████████              | 634 kB 15.0 MB/s eta 0:00:01\r\u001b[K     |██████████████████▍             | 645 kB 15.0 MB/s eta 0:00:01\r\u001b[K     |██████████████████▊             | 655 kB 15.0 MB/s eta 0:00:01\r\u001b[K     |███████████████████             | 665 kB 15.0 MB/s eta 0:00:01\r\u001b[K     |███████████████████▎            | 675 kB 15.0 MB/s eta 0:00:01\r\u001b[K     |███████████████████▌            | 686 kB 15.0 MB/s eta 0:00:01\r\u001b[K     |███████████████████▉            | 696 kB 15.0 MB/s eta 0:00:01\r\u001b[K     |████████████████████▏           | 706 kB 15.0 MB/s eta 0:00:01\r\u001b[K     |████████████████████▍           | 716 kB 15.0 MB/s eta 0:00:01\r\u001b[K     |████████████████████▊           | 727 kB 15.0 MB/s eta 0:00:01\r\u001b[K     |█████████████████████           | 737 kB 15.0 MB/s eta 0:00:01\r\u001b[K     |█████████████████████▎          | 747 kB 15.0 MB/s eta 0:00:01\r\u001b[K     |█████████████████████▋          | 757 kB 15.0 MB/s eta 0:00:01\r\u001b[K     |█████████████████████▉          | 768 kB 15.0 MB/s eta 0:00:01\r\u001b[K     |██████████████████████▏         | 778 kB 15.0 MB/s eta 0:00:01\r\u001b[K     |██████████████████████▌         | 788 kB 15.0 MB/s eta 0:00:01\r\u001b[K     |██████████████████████▊         | 798 kB 15.0 MB/s eta 0:00:01\r\u001b[K     |███████████████████████         | 808 kB 15.0 MB/s eta 0:00:01\r\u001b[K     |███████████████████████▍        | 819 kB 15.0 MB/s eta 0:00:01\r\u001b[K     |███████████████████████▋        | 829 kB 15.0 MB/s eta 0:00:01\r\u001b[K     |████████████████████████        | 839 kB 15.0 MB/s eta 0:00:01\r\u001b[K     |████████████████████████▏       | 849 kB 15.0 MB/s eta 0:00:01\r\u001b[K     |████████████████████████▌       | 860 kB 15.0 MB/s eta 0:00:01\r\u001b[K     |████████████████████████▉       | 870 kB 15.0 MB/s eta 0:00:01\r\u001b[K     |█████████████████████████       | 880 kB 15.0 MB/s eta 0:00:01\r\u001b[K     |█████████████████████████▍      | 890 kB 15.0 MB/s eta 0:00:01\r\u001b[K     |█████████████████████████▊      | 901 kB 15.0 MB/s eta 0:00:01\r\u001b[K     |██████████████████████████      | 911 kB 15.0 MB/s eta 0:00:01\r\u001b[K     |██████████████████████████▎     | 921 kB 15.0 MB/s eta 0:00:01\r\u001b[K     |██████████████████████████▌     | 931 kB 15.0 MB/s eta 0:00:01\r\u001b[K     |██████████████████████████▉     | 942 kB 15.0 MB/s eta 0:00:01\r\u001b[K     |███████████████████████████▏    | 952 kB 15.0 MB/s eta 0:00:01\r\u001b[K     |███████████████████████████▍    | 962 kB 15.0 MB/s eta 0:00:01\r\u001b[K     |███████████████████████████▊    | 972 kB 15.0 MB/s eta 0:00:01\r\u001b[K     |████████████████████████████    | 983 kB 15.0 MB/s eta 0:00:01\r\u001b[K     |████████████████████████████▎   | 993 kB 15.0 MB/s eta 0:00:01\r\u001b[K     |████████████████████████████▋   | 1.0 MB 15.0 MB/s eta 0:00:01\r\u001b[K     |████████████████████████████▉   | 1.0 MB 15.0 MB/s eta 0:00:01\r\u001b[K     |█████████████████████████████▏  | 1.0 MB 15.0 MB/s eta 0:00:01\r\u001b[K     |█████████████████████████████▌  | 1.0 MB 15.0 MB/s eta 0:00:01\r\u001b[K     |█████████████████████████████▊  | 1.0 MB 15.0 MB/s eta 0:00:01\r\u001b[K     |██████████████████████████████  | 1.1 MB 15.0 MB/s eta 0:00:01\r\u001b[K     |██████████████████████████████▍ | 1.1 MB 15.0 MB/s eta 0:00:01\r\u001b[K     |██████████████████████████████▋ | 1.1 MB 15.0 MB/s eta 0:00:01\r\u001b[K     |███████████████████████████████ | 1.1 MB 15.0 MB/s eta 0:00:01\r\u001b[K     |███████████████████████████████▏| 1.1 MB 15.0 MB/s eta 0:00:01\r\u001b[K     |███████████████████████████████▌| 1.1 MB 15.0 MB/s eta 0:00:01\r\u001b[K     |███████████████████████████████▉| 1.1 MB 15.0 MB/s eta 0:00:01\r\u001b[K     |████████████████████████████████| 1.1 MB 15.0 MB/s \n",
            "\u001b[?25hRequirement already satisfied: typeguard>=2.7 in /usr/local/lib/python3.7/dist-packages (from tensorflow-addons) (2.7.1)\n",
            "Installing collected packages: tensorflow-addons\n",
            "Successfully installed tensorflow-addons-0.16.1\n"
          ]
        }
      ],
      "source": [
        "!pip install tensorflow-addons"
      ]
    },
    {
      "cell_type": "code",
      "execution_count": null,
      "metadata": {
        "id": "-HZ0upER0TYw"
      },
      "outputs": [],
      "source": [
        "import tensorflow_addons as tfa"
      ]
    },
    {
      "cell_type": "code",
      "execution_count": null,
      "metadata": {
        "id": "dJ8JidRLGVHC"
      },
      "outputs": [],
      "source": [
        "#Compile the model\n",
        "\n",
        "model.compile(loss=losses, optimizer=tfa.optimizers.LAMB(), metrics=custommetrics,loss_weights=loss_weights)\n",
        "#model.compile(loss=losses, optimizer='SGD', metrics=custommetrics,loss_weights=loss_weights)"
      ]
    },
    {
      "cell_type": "code",
      "execution_count": null,
      "metadata": {
        "id": "Q2ylAQNBkgG1",
        "colab": {
          "base_uri": "https://localhost:8080/",
          "height": 87
        },
        "outputId": "24826e2d-873b-489f-cf70-0060315398da"
      },
      "outputs": [
        {
          "output_type": "execute_result",
          "data": {
            "text/plain": [
              "'history=model.fit(\\n          x= {\"input_3\":X_Train_MobileNet,\"input_4\":X_Train_MobileNet},\\n          y={\"box_output\":Y_Train_MobileNet_BoxInput,\\n             \"class_output\":Y_Train_MobileNet_ClassInput\\n          },\\n           validation_data=( {\"input_3\":X_Test_MobileNet,\"input_4\":X_Test_MobileNet} ,\\n              {\"box_output\":Y_Test_MobileNet_BoxInput,\"class_output\":Y_Test_MobileNet_ClassInput}), epochs=3, batch_size=700)'"
            ],
            "application/vnd.google.colaboratory.intrinsic+json": {
              "type": "string"
            }
          },
          "metadata": {},
          "execution_count": 26
        }
      ],
      "source": [
        "#Training the model\n",
        "#Fit the model to the dataset\n",
        "\n",
        "#Use early stopping,fit the model,give train data - training features and labels,batch size: 32 contd...\n",
        "#...epochs: 10,give validation data - testing features and labels\n",
        "\n",
        "# Use earlystopping\n",
        "#es = EarlyStopping(monitor =\"val_loss\", min_delta = 0.1, patience=20)\n",
        "#mc = ModelCheckpoint('/content/drive/MyDrive/Capstone/Pickled_Info/BaselineModel.h5', monitor='val_loss', mode='min', verbose=1, save_best_only=True)\n",
        "\n",
        "# If val_iou does not increase by 001 in 5 epochs , stop\n",
        "# Fit the model\n",
        "'''history=model.fit(\n",
        "          x= {\"input_3\":X_Train_MobileNet,\"input_4\":X_Train_MobileNet},\n",
        "          y={\"box_output\":Y_Train_MobileNet_BoxInput,\n",
        "             \"class_output\":Y_Train_MobileNet_ClassInput\n",
        "          },\n",
        "           validation_data=( {\"input_3\":X_Test_MobileNet,\"input_4\":X_Test_MobileNet} ,\n",
        "              {\"box_output\":Y_Test_MobileNet_BoxInput,\"class_output\":Y_Test_MobileNet_ClassInput}), epochs=3, batch_size=700)'''"
      ]
    },
    {
      "cell_type": "code",
      "execution_count": null,
      "metadata": {
        "id": "_UrF9EvoJkub",
        "colab": {
          "base_uri": "https://localhost:8080/"
        },
        "outputId": "8fd71304-75ea-4679-e632-b18653e8c288"
      },
      "outputs": [
        {
          "output_type": "stream",
          "name": "stdout",
          "text": [
            "drive  sample_data\n"
          ]
        }
      ],
      "source": [
        "!ls"
      ]
    },
    {
      "cell_type": "code",
      "execution_count": null,
      "metadata": {
        "id": "hlAaortAA9jb"
      },
      "outputs": [],
      "source": [
        "#model = saved_model\n",
        "#model.save('/content/drive/MyDrive/Capstone/Pickled_Info/BaselineModel.h5')\n",
        "#model.save_weights('/content/drive/MyDrive/Capstone/Pickled_Info/BaselineModelWeights.h5')"
      ]
    },
    {
      "cell_type": "code",
      "execution_count": null,
      "metadata": {
        "id": "coGHUA5LqCXL"
      },
      "outputs": [],
      "source": [
        "# Retrieve Model\n",
        "#from keras.models import load_model\n",
        "\n",
        "#model = load_model('/content/drive/MyDrive/Capstone/Pickled_Info/BaselineModel.h5');"
      ]
    },
    {
      "cell_type": "code",
      "execution_count": null,
      "metadata": {
        "id": "X_pXAugaCLcI"
      },
      "outputs": [],
      "source": [
        "plt.plot(history.history['class_output_accuracy'], label='class_output_accuracy')\n",
        "plt.plot(history.history['val_class_output_accuracy'], label='val_class_output_accuracy')\n",
        "plt.legend()"
      ]
    },
    {
      "cell_type": "code",
      "execution_count": null,
      "metadata": {
        "id": "IvMtsYDf1cH5"
      },
      "outputs": [],
      "source": [
        "stop"
      ]
    },
    {
      "cell_type": "code",
      "source": [
        "X_Batch.shape"
      ],
      "metadata": {
        "id": "tVPDhhkSWwM9"
      },
      "execution_count": null,
      "outputs": []
    },
    {
      "cell_type": "code",
      "source": [
        "Y_Batch.shape"
      ],
      "metadata": {
        "id": "zS0sHGRjW0Gz"
      },
      "execution_count": null,
      "outputs": []
    },
    {
      "cell_type": "code",
      "execution_count": null,
      "metadata": {
        "id": "Cl0muwWIkgG1",
        "colab": {
          "base_uri": "https://localhost:8080/"
        },
        "outputId": "0d1033e6-07b4-4464-9e5c-4afe13bf0814"
      },
      "outputs": [
        {
          "output_type": "stream",
          "name": "stdout",
          "text": [
            "11/11 [==============================] - 17s 187ms/step - loss: 221.1055 - box_output_loss: 220.7015 - class_output_loss: 0.4040 - box_output_IoU: 0.8445 - class_output_accuracy: 0.9012\n"
          ]
        },
        {
          "output_type": "execute_result",
          "data": {
            "text/plain": [
              "[221.1055145263672,\n",
              " 220.70150756835938,\n",
              " 0.4040146768093109,\n",
              " 0.8445091247558594,\n",
              " 0.9012345671653748]"
            ]
          },
          "metadata": {},
          "execution_count": 31
        }
      ],
      "source": [
        "#Final loss and accuracy\n",
        "model.evaluate({\"input_1\":X_Test_MobileNet[0:324],\"input_2\": X_Batch},\n",
        "               {\"box_output\":Y_Test_MobileNet_BoxInput[0:324],\"class_output\":Y_Batch})"
      ]
    },
    {
      "cell_type": "code",
      "source": [
        ""
      ],
      "metadata": {
        "id": "WjyP2bzGc4NZ"
      },
      "execution_count": null,
      "outputs": []
    },
    {
      "cell_type": "markdown",
      "source": [
        "## 6.0 Predict"
      ],
      "metadata": {
        "id": "6629-xMXdf6v"
      }
    },
    {
      "cell_type": "code",
      "execution_count": null,
      "metadata": {
        "id": "domHNz_xkgG2",
        "colab": {
          "base_uri": "https://localhost:8080/"
        },
        "outputId": "c94faf9f-4d73-4b77-d90e-41dbb51f3658"
      },
      "outputs": [
        {
          "output_type": "execute_result",
          "data": {
            "text/plain": [
              "(1, 300, 300, 3)"
            ]
          },
          "metadata": {},
          "execution_count": 45
        }
      ],
      "source": [
        "# Take some sample image and predict\n",
        "\n",
        "#region=model.predict(X_Test_MobileNet[2345].reshape(1,128,128,3)) # Predict the BBox\n",
        "\n",
        "image =X_Batch[10].reshape(1,300,300,3)\n",
        "image.shape\n",
        "region=model.predict({\"input_1\":image,\"input_2\":image}) # Predict the BBox"
      ]
    },
    {
      "cell_type": "code",
      "execution_count": null,
      "metadata": {
        "id": "fn46GD3dkgG2"
      },
      "outputs": [],
      "source": [
        "type(region)"
      ]
    },
    {
      "cell_type": "code",
      "source": [
        "label=np.argmax(region[1][0])"
      ],
      "metadata": {
        "id": "Z1P7nfnrMrLe"
      },
      "execution_count": null,
      "outputs": []
    },
    {
      "cell_type": "code",
      "source": [
        "# Predicted label\n",
        "label"
      ],
      "metadata": {
        "colab": {
          "base_uri": "https://localhost:8080/"
        },
        "id": "ZsmzK--CM_mY",
        "outputId": "f1351863-3f15-41dd-d716-4e20f1ed823b"
      },
      "execution_count": null,
      "outputs": [
        {
          "output_type": "execute_result",
          "data": {
            "text/plain": [
              "119"
            ]
          },
          "metadata": {},
          "execution_count": 47
        }
      ]
    },
    {
      "cell_type": "code",
      "source": [
        "\n",
        "# list out keys and values separately\n",
        "key_list = list(classDict.keys())\n",
        "val_list = list(classDict.values())\n",
        " \n",
        "# print key with val 100\n",
        "position = val_list.index(119)\n",
        "print(key_list[position])"
      ],
      "metadata": {
        "colab": {
          "base_uri": "https://localhost:8080/"
        },
        "id": "LJ6uvEgiZUGx",
        "outputId": "3b2f701b-bc2b-4804-ef54-5723bf13d65b"
      },
      "execution_count": null,
      "outputs": [
        {
          "output_type": "stream",
          "name": "stdout",
          "text": [
            "GMC Savana Van 2012\n"
          ]
        }
      ]
    },
    {
      "cell_type": "code",
      "source": [
        "# Actual Label\n",
        "\n",
        "np.argmax(Y_Batch[10])"
      ],
      "metadata": {
        "colab": {
          "base_uri": "https://localhost:8080/"
        },
        "id": "CV9yyGJyNDbm",
        "outputId": "09911cd9-c14d-476a-fb07-237e05251b8e"
      },
      "execution_count": null,
      "outputs": [
        {
          "output_type": "execute_result",
          "data": {
            "text/plain": [
              "119"
            ]
          },
          "metadata": {},
          "execution_count": 50
        }
      ]
    },
    {
      "cell_type": "code",
      "execution_count": null,
      "metadata": {
        "id": "yTx1zFuykgG3",
        "colab": {
          "base_uri": "https://localhost:8080/",
          "height": 288
        },
        "outputId": "04bdde41-e57a-4ad3-abed-3e134091d9ec"
      },
      "outputs": [
        {
          "output_type": "execute_result",
          "data": {
            "text/plain": [
              "<matplotlib.image.AxesImage at 0x7f0ac796e410>"
            ]
          },
          "metadata": {},
          "execution_count": 51
        },
        {
          "output_type": "execute_result",
          "data": {
            "text/plain": [
              "<matplotlib.patches.Rectangle at 0x7f0ac790db10>"
            ]
          },
          "metadata": {},
          "execution_count": 51
        },
        {
          "output_type": "display_data",
          "data": {
            "text/plain": [
              "<Figure size 432x288 with 1 Axes>"
            ],
            "image/png": "[encoded data removed]"
          },
          "metadata": {}
        }
      ],
      "source": [
        "# Lets visually display any two train data samples\n",
        "\n",
        "# View any one sample of prepared Train Data \n",
        "im=X_Batch[10]\n",
        "# Show resized image with Box\n",
        "fig,ax = plt.subplots(1)\n",
        "ax.imshow(im/255)\n",
        "res_x0,res_y0,res_x1,res_y1,=region[0][0]\n",
        "rect = patches.Rectangle((res_x0, res_y0), res_x1 - res_x0, res_y1 - res_y0, linewidth=2, edgecolor='r', facecolor='none')\n",
        "ax.add_patch(rect)\n",
        "plt.show()\n"
      ]
    },
    {
      "cell_type": "code",
      "execution_count": null,
      "metadata": {
        "id": "3wJmaopRusWn"
      },
      "outputs": [],
      "source": [
        "# Get the class\n",
        "region_class=region[0][0]\n",
        "predicted_index = np.argmax(region_class)\n",
        "print(predicted_index +1)"
      ]
    },
    {
      "cell_type": "code",
      "execution_count": null,
      "metadata": {
        "id": "bGQNGgFivJUn"
      },
      "outputs": [],
      "source": [
        "# What is the actual class\n",
        "Y_Test[2345]"
      ]
    },
    {
      "cell_type": "code",
      "execution_count": null,
      "metadata": {
        "id": "Xy_9atRE4fcV"
      },
      "outputs": [],
      "source": [
        "#end here "
      ]
    }
  ],
  "metadata": {
    "accelerator": "GPU",
    "colab": {
      "collapsed_sections": [],
      "machine_shape": "hm",
      "name": "Final_Amalmagated_Baseline_Model.ipynb",
      "provenance": [],
      "toc_visible": true
    },
    "kernelspec": {
      "display_name": "Python 3",
      "language": "python",
      "name": "python3"
    },
    "language_info": {
      "codemirror_mode": {
        "name": "ipython",
        "version": 3
      },
      "file_extension": ".py",
      "mimetype": "text/x-python",
      "name": "python",
      "nbconvert_exporter": "python",
      "pygments_lexer": "ipython3",
      "version": "3.8.3"
    }
  },
  "nbformat": 4,
  "nbformat_minor": 0
}